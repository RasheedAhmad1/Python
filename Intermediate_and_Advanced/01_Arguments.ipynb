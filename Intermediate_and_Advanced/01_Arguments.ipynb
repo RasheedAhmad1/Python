{
 "cells": [
  {
   "cell_type": "markdown",
   "id": "lightweight-monitor",
   "metadata": {},
   "source": [
    "# \\*args and \\*\\*kwargs\n",
    "## Unpacking operators\n",
    "In short, the unpacking operators are operators that unpack the values from iterable objects in Python. The single asterisk operator * can be used on any iterable that Python provides, while the double asterisk operator ** can only be used on dictionaries."
   ]
  },
  {
   "cell_type": "markdown",
   "id": "opposed-terrain",
   "metadata": {},
   "source": [
    "## Passing Multiple Arguments to a Function ( \\*args)\n",
    "\\*args and \\*\\*kwargs allow you to pass multiple arguments or keyword arguments to a function. Consider the following example. This is a simple function that takes two arguments and returns their sum:"
   ]
  },
  {
   "cell_type": "code",
   "execution_count": 1,
   "id": "complete-burton",
   "metadata": {},
   "outputs": [],
   "source": [
    "def my_sum(a, b):\n",
    "    return a + b"
   ]
  },
  {
   "cell_type": "markdown",
   "id": "forward-savage",
   "metadata": {},
   "source": [
    "This function works fine, but it’s limited to only two arguments. What if you need to sum a varying number of arguments, where the specific number of arguments passed is only determined at runtime? Wouldn’t it be great to create a function that could sum all the integers passed to it, no matter how many there are?"
   ]
  },
  {
   "cell_type": "markdown",
   "id": "roman-surrey",
   "metadata": {},
   "source": [
    "## Using the Python \\*args Variable in Function Definitions\n",
    "There are a few ways you can pass a varying number of arguments to a function. The first way is often the most intuitive for people that have experience with collections. You simply pass a list or a set of all the arguments to your function. So for my_sum(), you could pass a list of all the integers you need to add:"
   ]
  },
  {
   "cell_type": "code",
   "execution_count": 2,
   "id": "opened-karma",
   "metadata": {},
   "outputs": [
    {
     "name": "stdout",
     "output_type": "stream",
     "text": [
      "6\n"
     ]
    }
   ],
   "source": [
    "def my_sum(my_integers):\n",
    "    result = 0\n",
    "    for x in my_integers:\n",
    "        result += x\n",
    "    return result\n",
    "\n",
    "list_of_integers = [1, 2, 3]\n",
    "print(my_sum(list_of_integers))"
   ]
  },
  {
   "cell_type": "markdown",
   "id": "extra-morning",
   "metadata": {},
   "source": [
    "This implementation works, but whenever you call this function you’ll also need to create a list of arguments to pass to it. This can be inconvenient, especially if you don’t know up front all the values that should go into the list.\n",
    "\n",
    "This is where \\*args can be really useful, because it allows you to pass a varying number of positional arguments. Take the following example:"
   ]
  },
  {
   "cell_type": "code",
   "execution_count": 3,
   "id": "apart-belize",
   "metadata": {},
   "outputs": [
    {
     "name": "stdout",
     "output_type": "stream",
     "text": [
      "12\n"
     ]
    }
   ],
   "source": [
    "def my_sum(*args):\n",
    "    result = 0\n",
    "    # Iterating over the Python args tuple\n",
    "    for x in args:\n",
    "        result += x\n",
    "    return result\n",
    "\n",
    "data = (2, 4, 6)\n",
    "print(my_sum(2, 4, 6))"
   ]
  },
  {
   "cell_type": "markdown",
   "id": "burning-joshua",
   "metadata": {},
   "source": [
    "In this example, you’re no longer passing a list to my_sum(). Instead, you’re passing three different positional arguments. my_sum() takes all the parameters that are provided in the input and packs them all into a single iterable object named args.\n",
    "\n",
    "Note that args is just a name. You’re not required to use the name args. You can choose any name that you prefer, such as integers:"
   ]
  },
  {
   "cell_type": "code",
   "execution_count": 4,
   "id": "inside-copyright",
   "metadata": {},
   "outputs": [
    {
     "name": "stdout",
     "output_type": "stream",
     "text": [
      "6\n"
     ]
    }
   ],
   "source": [
    "def my_sum(*integers):\n",
    "    result = 0\n",
    "    for x in integers:\n",
    "        result += x\n",
    "    return result\n",
    "\n",
    "print(my_sum(1, 2, 3))"
   ]
  },
  {
   "cell_type": "markdown",
   "id": "annoying-purchase",
   "metadata": {},
   "source": [
    "The function still works, even if you pass the iterable object as integers instead of args. All that matters here is that you use the unpacking operator (*).\n",
    "\n",
    "Bear in mind that the iterable object you’ll get using the unpacking operator * is not a list but a tuple. A tuple is similar to a list in that they both support slicing and iteration. However, tuples are very different in at least one aspect: lists are mutable, while tuples are not. To test this, run the following code. This script tries to change a value of a list:"
   ]
  },
  {
   "cell_type": "code",
   "execution_count": 5,
   "id": "discrete-turkish",
   "metadata": {},
   "outputs": [
    {
     "name": "stdout",
     "output_type": "stream",
     "text": [
      "[9, 2, 3]\n"
     ]
    }
   ],
   "source": [
    "my_list = [1, 2, 3]\n",
    "my_list[0] = 9\n",
    "print(my_list)\n",
    "# The value located at the very first index of the list should be updated to 9. \n",
    "# If you execute this script, you will see that the list indeed gets modified:"
   ]
  },
  {
   "cell_type": "markdown",
   "id": "sought-vacation",
   "metadata": {},
   "source": [
    "The first value is no longer 0, but the updated value 9. Now, try to do the same with a tuple:"
   ]
  },
  {
   "cell_type": "code",
   "execution_count": 6,
   "id": "pressing-crack",
   "metadata": {},
   "outputs": [
    {
     "ename": "TypeError",
     "evalue": "'tuple' object does not support item assignment",
     "output_type": "error",
     "traceback": [
      "\u001b[1;31m---------------------------------------------------------------------------\u001b[0m",
      "\u001b[1;31mTypeError\u001b[0m                                 Traceback (most recent call last)",
      "\u001b[1;32m<ipython-input-6-ccf4b9e77723>\u001b[0m in \u001b[0;36m<module>\u001b[1;34m\u001b[0m\n\u001b[0;32m      1\u001b[0m \u001b[0mmy_tuple\u001b[0m \u001b[1;33m=\u001b[0m \u001b[1;33m(\u001b[0m\u001b[1;36m1\u001b[0m\u001b[1;33m,\u001b[0m \u001b[1;36m2\u001b[0m\u001b[1;33m,\u001b[0m \u001b[1;36m3\u001b[0m\u001b[1;33m)\u001b[0m\u001b[1;33m\u001b[0m\u001b[1;33m\u001b[0m\u001b[0m\n\u001b[1;32m----> 2\u001b[1;33m \u001b[0mmy_tuple\u001b[0m\u001b[1;33m[\u001b[0m\u001b[1;36m0\u001b[0m\u001b[1;33m]\u001b[0m \u001b[1;33m=\u001b[0m \u001b[1;36m9\u001b[0m\u001b[1;33m\u001b[0m\u001b[1;33m\u001b[0m\u001b[0m\n\u001b[0m\u001b[0;32m      3\u001b[0m \u001b[0mprint\u001b[0m\u001b[1;33m(\u001b[0m\u001b[0mmy_tuple\u001b[0m\u001b[1;33m)\u001b[0m\u001b[1;33m\u001b[0m\u001b[1;33m\u001b[0m\u001b[0m\n",
      "\u001b[1;31mTypeError\u001b[0m: 'tuple' object does not support item assignment"
     ]
    }
   ],
   "source": [
    "my_tuple = (1, 2, 3)\n",
    "my_tuple[0] = 9\n",
    "print(my_tuple)"
   ]
  },
  {
   "cell_type": "markdown",
   "id": "certain-stuff",
   "metadata": {},
   "source": [
    "Here, you see the same values, except they’re held together as a tuple. If you try to execute this script, you will see that the Python interpreter returns an error:\n",
    "This is because a tuple is an immutable object, and its values cannot be changed after assignment. Keep this in mind when you’re working with tuples and *args."
   ]
  },
  {
   "cell_type": "markdown",
   "id": "talented-smoke",
   "metadata": {},
   "source": [
    "## \\*\\*kwargs\n",
    "Using the Python kwargs Variable in Function Definitions\n",
    "Okay, now you’ve understood what \\*args is for, but what about \\*\\*kwargs? \\*\\*kwargs works just like \\*args, but instead of accepting positional arguments it accepts keyword (or named) arguments. Take the following example:"
   ]
  },
  {
   "cell_type": "code",
   "execution_count": 1,
   "id": "illegal-greensboro",
   "metadata": {},
   "outputs": [
    {
     "name": "stdout",
     "output_type": "stream",
     "text": [
      "RealPythonIsGreat!\n"
     ]
    }
   ],
   "source": [
    "def concatenate(**kwargs):\n",
    "    result = \"\"\n",
    "    # Iterating over the Python kwargs dictionary\n",
    "    for arg in kwargs.values():\n",
    "        result += arg\n",
    "    return result\n",
    "\n",
    "print(concatenate(a=\"Real\", b=\"Python\", c=\"Is\", d=\"Great\", e=\"!\"))"
   ]
  },
  {
   "cell_type": "markdown",
   "id": "orange-universal",
   "metadata": {},
   "source": [
    "When you execute the script above, concatenate() will iterate through the Python kwargs dictionary and concatenate all the values it finds.\n",
    "\n",
    "Like args, kwargs is just a name that can be changed to whatever you want. Again, what is important here is the use of the unpacking operator (**).\n",
    "\n",
    "So, the previous example could be written like this:"
   ]
  },
  {
   "cell_type": "code",
   "execution_count": 2,
   "id": "attractive-outside",
   "metadata": {},
   "outputs": [
    {
     "name": "stdout",
     "output_type": "stream",
     "text": [
      "RealPythonIsGreat!\n"
     ]
    }
   ],
   "source": [
    "def concatenate(**words):\n",
    "    result = \"\"\n",
    "    for arg in words.values():\n",
    "        result += arg\n",
    "    return result\n",
    "\n",
    "print(concatenate(a=\"Real\", b=\"Python\", c=\"Is\", d=\"Great\", e=\"!\"))"
   ]
  },
  {
   "cell_type": "markdown",
   "id": "interim-image",
   "metadata": {},
   "source": [
    "Note that in the example above the iterable object is a standard dict. If you iterate over the dictionary and want to return its values, like in the example shown, then you must use .values().\n",
    "\n",
    "In fact, if you forget to use this method, you will find yourself iterating through the keys of your Python kwargs dictionary instead, like in the following example:"
   ]
  },
  {
   "cell_type": "code",
   "execution_count": 3,
   "id": "suspected-dodge",
   "metadata": {},
   "outputs": [
    {
     "name": "stdout",
     "output_type": "stream",
     "text": [
      "abcde\n"
     ]
    }
   ],
   "source": [
    "def concatenate(**kwargs):\n",
    "    result = \"\"\n",
    "    # Iterating over the keys of the Python kwargs dictionary\n",
    "    for arg in kwargs:\n",
    "        result += arg\n",
    "    return result\n",
    "\n",
    "print(concatenate(a=\"Real\", b=\"Python\", c=\"Is\", d=\"Great\", e=\"!\"))"
   ]
  },
  {
   "cell_type": "markdown",
   "id": "declared-funds",
   "metadata": {},
   "source": [
    "As you can see, if you don’t specify .values(), your function will iterate over the keys of your Python kwargs dictionary, returning the wrong result."
   ]
  },
  {
   "cell_type": "code",
   "execution_count": null,
   "id": "spatial-bloom",
   "metadata": {},
   "outputs": [],
   "source": []
  }
 ],
 "metadata": {
  "kernelspec": {
   "display_name": "Python 3",
   "language": "python",
   "name": "python3"
  },
  "language_info": {
   "codemirror_mode": {
    "name": "ipython",
    "version": 3
   },
   "file_extension": ".py",
   "mimetype": "text/x-python",
   "name": "python",
   "nbconvert_exporter": "python",
   "pygments_lexer": "ipython3",
   "version": "3.9.2"
  }
 },
 "nbformat": 4,
 "nbformat_minor": 5
}
