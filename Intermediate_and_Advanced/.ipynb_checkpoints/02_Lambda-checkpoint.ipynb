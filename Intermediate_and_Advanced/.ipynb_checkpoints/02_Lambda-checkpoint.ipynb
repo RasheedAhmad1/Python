{
 "cells": [
  {
   "cell_type": "markdown",
   "id": "former-small",
   "metadata": {},
   "source": [
    "# Lambda Function\n",
    "* A lambda function is a small anonymous function\n",
    "* A lambda function can take any number of arguments but can only have one expression\n",
    "* The power of lambda is better shown when you use them as an anonymous function inside another function"
   ]
  },
  {
   "cell_type": "markdown",
   "id": "analyzed-baseball",
   "metadata": {},
   "source": [
    "## Syntax\n",
    "lambda arguments(bound variable) : expression<br>\n",
    "The expression is executed and the result is returned"
   ]
  },
  {
   "cell_type": "markdown",
   "id": "collected-falls",
   "metadata": {},
   "source": [
    "A function that adds 2 to an argument, as follows:"
   ]
  },
  {
   "cell_type": "code",
   "execution_count": 4,
   "id": "representative-parcel",
   "metadata": {},
   "outputs": [
    {
     "data": {
      "text/plain": [
       "<function __main__.<lambda>(a)>"
      ]
     },
     "execution_count": 4,
     "metadata": {},
     "output_type": "execute_result"
    }
   ],
   "source": [
    "# lambda with one argument\n",
    "lambda a : a + 2"
   ]
  },
  {
   "cell_type": "code",
   "execution_count": 6,
   "id": "imposed-factory",
   "metadata": {},
   "outputs": [
    {
     "data": {
      "text/plain": [
       "<function __main__.<lambda>(a, b)>"
      ]
     },
     "execution_count": 6,
     "metadata": {},
     "output_type": "execute_result"
    }
   ],
   "source": [
    "# lambda with two arguments\n",
    "lambda a, b: a + b"
   ]
  },
  {
   "cell_type": "code",
   "execution_count": 9,
   "id": "instant-pacific",
   "metadata": {},
   "outputs": [
    {
     "data": {
      "text/plain": [
       "3"
      ]
     },
     "execution_count": 9,
     "metadata": {},
     "output_type": "execute_result"
    }
   ],
   "source": [
    "(lambda a : a + 1)(2)"
   ]
  },
  {
   "cell_type": "markdown",
   "id": "reserved-prize",
   "metadata": {},
   "source": [
    "Because a lambda function is an expression, it can be named. Therefore you could write the previous code as follows:"
   ]
  },
  {
   "cell_type": "code",
   "execution_count": 11,
   "id": "consistent-vegetarian",
   "metadata": {},
   "outputs": [
    {
     "data": {
      "text/plain": [
       "3"
      ]
     },
     "execution_count": 11,
     "metadata": {},
     "output_type": "execute_result"
    }
   ],
   "source": [
    "add = lambda a : a + 1\n",
    "add(2)"
   ]
  },
  {
   "cell_type": "code",
   "execution_count": 12,
   "id": "thrown-fighter",
   "metadata": {},
   "outputs": [
    {
     "data": {
      "text/plain": [
       "3"
      ]
     },
     "execution_count": 12,
     "metadata": {},
     "output_type": "execute_result"
    }
   ],
   "source": [
    "# The above code is equavelent to\n",
    "def add(a):\n",
    "    return a + 1\n",
    "\n",
    "add(2)"
   ]
  },
  {
   "cell_type": "code",
   "execution_count": 3,
   "id": "sticky-casino",
   "metadata": {},
   "outputs": [
    {
     "data": {
      "text/plain": [
       "5"
      ]
     },
     "execution_count": 3,
     "metadata": {},
     "output_type": "execute_result"
    }
   ],
   "source": [
    "(lambda x, y: x + y)(2, 3)"
   ]
  },
  {
   "cell_type": "markdown",
   "id": "hearing-trading",
   "metadata": {},
   "source": [
    "The lambda function above is defined and then immediately called with two arguments (2 and 3). It returns the value 5, which is the sum of the arguments."
   ]
  },
  {
   "cell_type": "markdown",
   "id": "manual-seattle",
   "metadata": {},
   "source": [
    "Reduction is a lambda calculus strategy to compute the value of the expression. In the above example, it consists of replacing the bound variables x, y with the arguments 2, and 3 respetivily<br>\n",
    "(lambda x, y: x + y)(2, 3) = lambda 2, 3: 2 + 3<br>\n",
    "&emsp;&emsp;&emsp;&emsp;&emsp;&emsp;&emsp;= 2 + 3<br>\n",
    "&emsp;&emsp;&emsp;&emsp;&emsp;&emsp;&emsp;= 5"
   ]
  },
  {
   "cell_type": "code",
   "execution_count": 4,
   "id": "velvet-trick",
   "metadata": {},
   "outputs": [
    {
     "data": {
      "text/plain": [
       "22"
      ]
     },
     "execution_count": 4,
     "metadata": {},
     "output_type": "execute_result"
    }
   ],
   "source": [
    "# Doubling a number\n",
    "def my_func(n):\n",
    "    return lambda a: a * n\n",
    "doubler = my_func(2)\n",
    "doubler(11)"
   ]
  },
  {
   "cell_type": "code",
   "execution_count": 1,
   "id": "wicked-chaos",
   "metadata": {},
   "outputs": [
    {
     "data": {
      "text/plain": [
       "33"
      ]
     },
     "execution_count": 1,
     "metadata": {},
     "output_type": "execute_result"
    }
   ],
   "source": [
    "# Tripling a number\n",
    "def my_func(n):\n",
    "    return lambda a: a * n\n",
    "tripler = my_func(3)\n",
    "tripler(11)"
   ]
  }
 ],
 "metadata": {
  "kernelspec": {
   "display_name": "Python 3",
   "language": "python",
   "name": "python3"
  },
  "language_info": {
   "codemirror_mode": {
    "name": "ipython",
    "version": 3
   },
   "file_extension": ".py",
   "mimetype": "text/x-python",
   "name": "python",
   "nbconvert_exporter": "python",
   "pygments_lexer": "ipython3",
   "version": "3.9.2"
  }
 },
 "nbformat": 4,
 "nbformat_minor": 5
}
