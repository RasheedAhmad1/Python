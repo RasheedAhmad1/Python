{
 "cells": [
  {
   "cell_type": "markdown",
   "id": "fifty-edinburgh",
   "metadata": {},
   "source": [
    "# Iterators\n",
    "* An Iterator is an object that contains a countable number of values.\n",
    "* An Iterator is an object that can be iterated upon, meaning that you can traverse through all the values.\n",
    "* Technically in Python the Iterator implements the iterator protocol, which consist of the methods \\_\\_iter\\_\\_() and \\_\\_next\\_\\_().\n",
    "* The iter() function (which in turn calls the \\_\\_iter\\_\\_() method) returns an iterator from them.\n",
    "\n",
    "## Iterator vs Iterable\n",
    "* Lists, Tuples, Dictionaries and Sets are Iterable objects. They are iterable conatiners which can get iterator from. All these objects have iter() method which is used to get an iterator.\n",
    "* Even strings are iterable objects, and can return an iterator.\n",
    "* The for loop actually create an iterator object and executes the next() method for each loop."
   ]
  },
  {
   "cell_type": "markdown",
   "id": "affiliated-intensity",
   "metadata": {},
   "source": [
    "We use the next() function to manually iterate through all the items of an iterator. When we reach the end and there is no more data to be returned, it will raise the StopIteration Exception. Following is an example."
   ]
  },
  {
   "cell_type": "code",
   "execution_count": 16,
   "id": "transsexual-forth",
   "metadata": {},
   "outputs": [],
   "source": [
    "# define a list\n",
    "items = ['Apple', 'Banana', 'Orange']\n",
    "\n",
    "# get an Iterator using iter() method\n",
    "my_iter = iter(items)"
   ]
  },
  {
   "cell_type": "code",
   "execution_count": 17,
   "id": "funky-morning",
   "metadata": {},
   "outputs": [
    {
     "name": "stdout",
     "output_type": "stream",
     "text": [
      "<list_iterator object at 0x0000022C157BFC70>\n"
     ]
    }
   ],
   "source": [
    "print(my_iter)"
   ]
  },
  {
   "cell_type": "code",
   "execution_count": 18,
   "id": "medieval-shanghai",
   "metadata": {},
   "outputs": [
    {
     "name": "stdout",
     "output_type": "stream",
     "text": [
      "Apple\n"
     ]
    }
   ],
   "source": [
    "# iterate through iterator object using next()\n",
    "print(next(my_iter))"
   ]
  },
  {
   "cell_type": "code",
   "execution_count": 19,
   "id": "respected-patrol",
   "metadata": {},
   "outputs": [
    {
     "name": "stdout",
     "output_type": "stream",
     "text": [
      "Banana\n"
     ]
    }
   ],
   "source": [
    "print(next(my_iter))"
   ]
  },
  {
   "cell_type": "code",
   "execution_count": 21,
   "id": "numerical-description",
   "metadata": {},
   "outputs": [
    {
     "name": "stdout",
     "output_type": "stream",
     "text": [
      "Orange\n"
     ]
    }
   ],
   "source": [
    "# next(obj) is same as obj.__next__()\n",
    "print(my_iter.__next__())"
   ]
  },
  {
   "cell_type": "code",
   "execution_count": 22,
   "id": "molecular-hampshire",
   "metadata": {},
   "outputs": [
    {
     "ename": "StopIteration",
     "evalue": "",
     "output_type": "error",
     "traceback": [
      "\u001b[1;31m---------------------------------------------------------------------------\u001b[0m",
      "\u001b[1;31mStopIteration\u001b[0m                             Traceback (most recent call last)",
      "\u001b[1;32m<ipython-input-22-06f360df9455>\u001b[0m in \u001b[0;36m<module>\u001b[1;34m\u001b[0m\n\u001b[1;32m----> 1\u001b[1;33m \u001b[0mprint\u001b[0m\u001b[1;33m(\u001b[0m\u001b[0mnext\u001b[0m\u001b[1;33m(\u001b[0m\u001b[0mmy_iter\u001b[0m\u001b[1;33m)\u001b[0m\u001b[1;33m)\u001b[0m\u001b[1;33m\u001b[0m\u001b[1;33m\u001b[0m\u001b[0m\n\u001b[0m",
      "\u001b[1;31mStopIteration\u001b[0m: "
     ]
    }
   ],
   "source": [
    "# This will raise error, as no more items left \n",
    "print(next(my_iter))"
   ]
  },
  {
   "cell_type": "markdown",
   "id": "fossil-health",
   "metadata": {},
   "source": [
    "A more elegant way of automatically iterating is by using the for loop. Using this, we can iterate over any object that can return an iterator, for example list, string, file etc."
   ]
  },
  {
   "cell_type": "code",
   "execution_count": 24,
   "id": "comfortable-cosmetic",
   "metadata": {},
   "outputs": [
    {
     "name": "stdout",
     "output_type": "stream",
     "text": [
      "Apple\n",
      "Banana\n",
      "Orange\n"
     ]
    }
   ],
   "source": [
    "items = ['Apple', 'Banana', 'Orange']\n",
    "for item in items:\n",
    "    print(item)"
   ]
  },
  {
   "cell_type": "markdown",
   "id": "recognized-feelings",
   "metadata": {},
   "source": [
    "## for loop internally working:\n",
    "As we see in the above example, the for loop was able to iterate automatically through the list.\n",
    "\n",
    "In fact the for loop can iterate over any iterable. Let's take a closer look at how the for loop is actually implemented in Python."
   ]
  },
  {
   "cell_type": "code",
   "execution_count": 27,
   "id": "hydraulic-packing",
   "metadata": {},
   "outputs": [],
   "source": [
    "for item in items:\n",
    "    pass"
   ]
  },
  {
   "cell_type": "markdown",
   "id": "hired-grill",
   "metadata": {},
   "source": [
    "Is actually implemented as."
   ]
  },
  {
   "cell_type": "code",
   "execution_count": 30,
   "id": "polar-tiger",
   "metadata": {},
   "outputs": [
    {
     "name": "stdout",
     "output_type": "stream",
     "text": [
      "Apple\n",
      "Banana\n",
      "Orange\n"
     ]
    }
   ],
   "source": [
    "# create an iterator object from that iterable\n",
    "iter_obj = iter(items)\n",
    "\n",
    "# infinite loop\n",
    "while True:\n",
    "    try:\n",
    "        # get the next item\n",
    "        element = next(iter_obj)\n",
    "        print(element)\n",
    "    except StopIteration:\n",
    "        # if StopIteration is raised, break from loop\n",
    "        break"
   ]
  },
  {
   "cell_type": "markdown",
   "id": "sensitive-prompt",
   "metadata": {},
   "source": [
    "So internally, the for loop creates an iterator object, iter_obj by calling iter() on the iterable.\n",
    "\n",
    "Ironically, this for loop is actually an infinite while loop.\n",
    "\n",
    "Inside the loop, it calls next() to get the next element and executes the body of the for loop with this value. After all the items exhaust, StopIteration is raised which is internally caught and the loop ends. Note that any other kind of exception will pass through."
   ]
  },
  {
   "cell_type": "code",
   "execution_count": null,
   "id": "rotary-tourist",
   "metadata": {},
   "outputs": [],
   "source": []
  }
 ],
 "metadata": {
  "kernelspec": {
   "display_name": "Python 3",
   "language": "python",
   "name": "python3"
  },
  "language_info": {
   "codemirror_mode": {
    "name": "ipython",
    "version": 3
   },
   "file_extension": ".py",
   "mimetype": "text/x-python",
   "name": "python",
   "nbconvert_exporter": "python",
   "pygments_lexer": "ipython3",
   "version": "3.9.2"
  }
 },
 "nbformat": 4,
 "nbformat_minor": 5
}
