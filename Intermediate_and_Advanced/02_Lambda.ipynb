{
 "cells": [
  {
   "cell_type": "markdown",
   "id": "former-small",
   "metadata": {},
   "source": [
    "# Lambda Function\n",
    "* A lambda function is a small anonymous function\n",
    "* A lambda function can take any number of arguments but can only have one expression\n",
    "* The power of lambda is better shown when you use them as an anonymous function inside another function"
   ]
  },
  {
   "cell_type": "markdown",
   "id": "analyzed-baseball",
   "metadata": {},
   "source": [
    "## Syntax\n",
    "lambda arguments(bound variable) : expression<br>\n",
    "The expression is executed and the result is returned"
   ]
  },
  {
   "cell_type": "markdown",
   "id": "relevant-roots",
   "metadata": {},
   "source": [
    "A function that adds 2 to an argument, as follows:"
   ]
  },
  {
   "cell_type": "code",
   "execution_count": 4,
   "id": "representative-parcel",
   "metadata": {},
   "outputs": [
    {
     "data": {
      "text/plain": [
       "<function __main__.<lambda>(a)>"
      ]
     },
     "execution_count": 4,
     "metadata": {},
     "output_type": "execute_result"
    }
   ],
   "source": [
    "# lambda with one argument\n",
    "lambda a : a + 2"
   ]
  },
  {
   "cell_type": "code",
   "execution_count": 6,
   "id": "imposed-factory",
   "metadata": {},
   "outputs": [
    {
     "data": {
      "text/plain": [
       "<function __main__.<lambda>(a, b)>"
      ]
     },
     "execution_count": 6,
     "metadata": {},
     "output_type": "execute_result"
    }
   ],
   "source": [
    "# lambda with two arguments\n",
    "lambda a, b: a + b"
   ]
  },
  {
   "cell_type": "code",
   "execution_count": 9,
   "id": "stainless-continuity",
   "metadata": {},
   "outputs": [
    {
     "data": {
      "text/plain": [
       "3"
      ]
     },
     "execution_count": 9,
     "metadata": {},
     "output_type": "execute_result"
    }
   ],
   "source": [
    "(lambda a : a + 1)(2)"
   ]
  },
  {
   "cell_type": "markdown",
   "id": "received-brass",
   "metadata": {},
   "source": [
    "Because a lambda function is an expression, it can be named. Therefore you could write the previous code as follows:"
   ]
  },
  {
   "cell_type": "code",
   "execution_count": 11,
   "id": "vietnamese-miami",
   "metadata": {},
   "outputs": [
    {
     "data": {
      "text/plain": [
       "3"
      ]
     },
     "execution_count": 11,
     "metadata": {},
     "output_type": "execute_result"
    }
   ],
   "source": [
    "add = lambda a : a + 1\n",
    "add(2)"
   ]
  },
  {
   "cell_type": "code",
   "execution_count": 12,
   "id": "thrown-fighter",
   "metadata": {},
   "outputs": [
    {
     "data": {
      "text/plain": [
       "3"
      ]
     },
     "execution_count": 12,
     "metadata": {},
     "output_type": "execute_result"
    }
   ],
   "source": [
    "# The above code is equavelent to\n",
    "def add(a):\n",
    "    return a + 1\n",
    "\n",
    "add(2)"
   ]
  },
  {
   "cell_type": "code",
   "execution_count": 3,
   "id": "hybrid-brunswick",
   "metadata": {},
   "outputs": [
    {
     "data": {
      "text/plain": [
       "5"
      ]
     },
     "execution_count": 3,
     "metadata": {},
     "output_type": "execute_result"
    }
   ],
   "source": [
    "(lambda x, y: x + y)(2, 3)"
   ]
  },
  {
   "cell_type": "markdown",
   "id": "experimental-afternoon",
   "metadata": {},
   "source": [
    "The lambda function above is defined and then immediately called with two arguments (2 and 3). It returns the value 5, which is the sum of the arguments."
   ]
  },
  {
   "cell_type": "markdown",
   "id": "based-fetish",
   "metadata": {},
   "source": [
    "Reduction is a lambda calculus strategy to compute the value of the expression. In the above example, it consists of replacing the bound variables x, y with the arguments 2, and 3 respetivily<br>\n",
    "(lambda x, y: x + y)(2, 3) = lambda 2, 3: 2 + 3<br>\n",
    "&emsp;&emsp;&emsp;&emsp;&emsp;&emsp;&emsp;= 2 + 3<br>\n",
    "&emsp;&emsp;&emsp;&emsp;&emsp;&emsp;&emsp;= 5"
   ]
  },
  {
   "cell_type": "code",
   "execution_count": 16,
   "id": "velvet-trick",
   "metadata": {},
   "outputs": [
    {
     "data": {
      "text/plain": [
       "22"
      ]
     },
     "execution_count": 16,
     "metadata": {},
     "output_type": "execute_result"
    }
   ],
   "source": [
    "# Doubling a number\n",
    "doubling = lambda a : a * 2\n",
    "doubling(11)"
   ]
  },
  {
   "cell_type": "code",
   "execution_count": 17,
   "id": "wicked-chaos",
   "metadata": {},
   "outputs": [
    {
     "data": {
      "text/plain": [
       "33"
      ]
     },
     "execution_count": 17,
     "metadata": {},
     "output_type": "execute_result"
    }
   ],
   "source": [
    "# Tripling a number\n",
    "tripling = lambda a : a * 3\n",
    "tripling(11)"
   ]
  },
  {
   "cell_type": "markdown",
   "id": "nutritional-uruguay",
   "metadata": {},
   "source": [
    "## Using lambda() Function with filter()\n",
    "The filter() function in Python takes a function and a list as arguments. This offers an elegant way to filter out all the elements of a sequence “sequence”, for which the function returns True. Here is a small program that returns the odd numbers from an input list."
   ]
  },
  {
   "cell_type": "code",
   "execution_count": 24,
   "id": "worthy-victorian",
   "metadata": {},
   "outputs": [
    {
     "name": "stdout",
     "output_type": "stream",
     "text": [
      "[5, 7, 97, 77, 23, 73, 61]\n"
     ]
    }
   ],
   "source": [
    "# Python code to illustrate filter() with lambda()\n",
    "li = [5, 7, 22, 97, 54, 62, 77, 23, 73, 61]\n",
    " \n",
    "final_list = list(filter(lambda x: (x%2 != 0), li))\n",
    "print(final_list)"
   ]
  },
  {
   "cell_type": "markdown",
   "id": "extraordinary-billy",
   "metadata": {},
   "source": [
    "For explanation purpose see the follwing steps"
   ]
  },
  {
   "cell_type": "code",
   "execution_count": 25,
   "id": "crucial-potato",
   "metadata": {},
   "outputs": [
    {
     "data": {
      "text/plain": [
       "False"
      ]
     },
     "execution_count": 25,
     "metadata": {},
     "output_type": "execute_result"
    }
   ],
   "source": [
    "a = lambda x: (x%2 != 0)\n",
    "a(2)"
   ]
  },
  {
   "cell_type": "code",
   "execution_count": 26,
   "id": "fossil-exclusion",
   "metadata": {},
   "outputs": [
    {
     "data": {
      "text/plain": [
       "True"
      ]
     },
     "execution_count": 26,
     "metadata": {},
     "output_type": "execute_result"
    }
   ],
   "source": [
    "a = lambda x: (x%2 != 0)\n",
    "a(3)"
   ]
  },
  {
   "cell_type": "markdown",
   "id": "experimental-livestock",
   "metadata": {},
   "source": [
    "Whenever a 'True' is returned from the filter() method that element will be filtered"
   ]
  },
  {
   "cell_type": "markdown",
   "id": "logical-girlfriend",
   "metadata": {},
   "source": [
    "## Using lambda() Function with map()\n",
    "The map() function in Python takes in a function and a list as an argument. The function is called with a lambda function and a list and a new list is returned which contains all the lambda modified items returned by that function for each item. "
   ]
  },
  {
   "cell_type": "code",
   "execution_count": 28,
   "id": "threaded-flashing",
   "metadata": {},
   "outputs": [
    {
     "name": "stdout",
     "output_type": "stream",
     "text": [
      "[2, 4, 6, 8, 10, 12, 14, 16, 18]\n"
     ]
    }
   ],
   "source": [
    "# Python code to illustrate map() with lambda() to get double of a list.\n",
    "li = [1, 2, 3, 4, 5, 6, 7, 8, 9]\n",
    " \n",
    "final_list = list(map(lambda x: x*2, li))\n",
    "print(final_list)"
   ]
  },
  {
   "cell_type": "code",
   "execution_count": 29,
   "id": "joint-company",
   "metadata": {},
   "outputs": [
    {
     "name": "stdout",
     "output_type": "stream",
     "text": [
      "['DOG', 'CAT', 'PARROT', 'RABBIT']\n"
     ]
    }
   ],
   "source": [
    "animals = ['dog', 'cat', 'parrot', 'rabbit']\n",
    " \n",
    "# here I intend to change all animal names to upper case and return the same\n",
    "uppered_animals = list(map(lambda animal: str.upper(animal), animals))\n",
    " \n",
    "print(uppered_animals)"
   ]
  },
  {
   "cell_type": "markdown",
   "id": "speaking-colonial",
   "metadata": {},
   "source": [
    "## Using lambda() Function with reduce()\n",
    "The reduce() function in Python takes in a function and a list as an argument. The function is called with a lambda function and an iterable and a new reduced result is returned. This performs a repetitive operation over the pairs of the iterable. The reduce() function belongs to the  functools module."
   ]
  },
  {
   "cell_type": "code",
   "execution_count": 30,
   "id": "different-grass",
   "metadata": {},
   "outputs": [
    {
     "name": "stdout",
     "output_type": "stream",
     "text": [
      "193\n"
     ]
    }
   ],
   "source": [
    "# Python code to illustrate reduce() with lambda() to get sum of a list\n",
    " \n",
    "from functools import reduce\n",
    "\n",
    "li = [5, 8, 10, 20, 50, 100]\n",
    "\n",
    "sum = reduce((lambda x, y: x + y), li)\n",
    "print (sum)"
   ]
  },
  {
   "cell_type": "markdown",
   "id": "handmade-dubai",
   "metadata": {},
   "source": [
    "Here the results of previous two elements are added to the next element and this goes on till the end of the list like (((((5+8)+10)+20)+50)+100)."
   ]
  }
 ],
 "metadata": {
  "kernelspec": {
   "display_name": "Python 3",
   "language": "python",
   "name": "python3"
  },
  "language_info": {
   "codemirror_mode": {
    "name": "ipython",
    "version": 3
   },
   "file_extension": ".py",
   "mimetype": "text/x-python",
   "name": "python",
   "nbconvert_exporter": "python",
   "pygments_lexer": "ipython3",
   "version": "3.9.2"
  }
 },
 "nbformat": 4,
 "nbformat_minor": 5
}
