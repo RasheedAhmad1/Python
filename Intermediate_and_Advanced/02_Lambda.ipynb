{
 "cells": [
  {
   "cell_type": "markdown",
   "id": "former-small",
   "metadata": {},
   "source": [
    "# Lambda Function\n",
    "* A lambda function is a small annonymous function\n",
    "* A lambda function can take any number of arguments but can only have one expression\n",
    "* The power of lambda is better shown when you use them as an annonymous function inside another function"
   ]
  },
  {
   "cell_type": "markdown",
   "id": "analyzed-baseball",
   "metadata": {},
   "source": [
    "## Syntax\n",
    "lambda arguments : expression<br>\n",
    "The expression is executed and the result is returned:"
   ]
  },
  {
   "cell_type": "code",
   "execution_count": 1,
   "id": "representative-parcel",
   "metadata": {},
   "outputs": [
    {
     "data": {
      "text/plain": [
       "5"
      ]
     },
     "execution_count": 1,
     "metadata": {},
     "output_type": "execute_result"
    }
   ],
   "source": [
    "# lambda with one argument\n",
    "x = lambda a: a + 2\n",
    "x(3)"
   ]
  },
  {
   "cell_type": "code",
   "execution_count": 2,
   "id": "imposed-factory",
   "metadata": {},
   "outputs": [
    {
     "data": {
      "text/plain": [
       "5"
      ]
     },
     "execution_count": 2,
     "metadata": {},
     "output_type": "execute_result"
    }
   ],
   "source": [
    "# lambda with two arguments\n",
    "x = lambda a, b: a + b\n",
    "x(2, 3)"
   ]
  },
  {
   "cell_type": "code",
   "execution_count": null,
   "id": "thrown-fighter",
   "metadata": {},
   "outputs": [],
   "source": [
    "# The above code is equavelent to\n",
    "def x(a, b):\n",
    "    return a + b"
   ]
  },
  {
   "cell_type": "code",
   "execution_count": 3,
   "id": "cross-groove",
   "metadata": {},
   "outputs": [
    {
     "data": {
      "text/plain": [
       "6"
      ]
     },
     "execution_count": 3,
     "metadata": {},
     "output_type": "execute_result"
    }
   ],
   "source": [
    "# lambda with three arguments\n",
    "x = lambda a, b, c: a + b + c\n",
    "x(1, 2, 3)"
   ]
  },
  {
   "cell_type": "code",
   "execution_count": 4,
   "id": "velvet-trick",
   "metadata": {},
   "outputs": [
    {
     "data": {
      "text/plain": [
       "22"
      ]
     },
     "execution_count": 4,
     "metadata": {},
     "output_type": "execute_result"
    }
   ],
   "source": [
    "# Doubling a number\n",
    "def my_func(n):\n",
    "    return lambda a: a * n\n",
    "doubler = my_func(2)\n",
    "doubler(11)"
   ]
  },
  {
   "cell_type": "code",
   "execution_count": 5,
   "id": "wicked-chaos",
   "metadata": {},
   "outputs": [
    {
     "data": {
      "text/plain": [
       "33"
      ]
     },
     "execution_count": 5,
     "metadata": {},
     "output_type": "execute_result"
    }
   ],
   "source": [
    "# Tripling a number\n",
    "def my_func(n):\n",
    "    return lambda a: a * n\n",
    "tripler = my_func(3)\n",
    "tripler(11)"
   ]
  },
  {
   "cell_type": "code",
   "execution_count": 6,
   "id": "remarkable-guidance",
   "metadata": {},
   "outputs": [
    {
     "data": {
      "text/plain": [
       "5"
      ]
     },
     "execution_count": 6,
     "metadata": {},
     "output_type": "execute_result"
    }
   ],
   "source": [
    "x = lambda  a: a+2\n",
    "\n",
    "x(3)"
   ]
  },
  {
   "cell_type": "code",
   "execution_count": null,
   "id": "blond-trauma",
   "metadata": {},
   "outputs": [],
   "source": []
  }
 ],
 "metadata": {
  "kernelspec": {
   "display_name": "Python 3",
   "language": "python",
   "name": "python3"
  },
  "language_info": {
   "codemirror_mode": {
    "name": "ipython",
    "version": 3
   },
   "file_extension": ".py",
   "mimetype": "text/x-python",
   "name": "python",
   "nbconvert_exporter": "python",
   "pygments_lexer": "ipython3",
   "version": "3.9.2"
  }
 },
 "nbformat": 4,
 "nbformat_minor": 5
}
