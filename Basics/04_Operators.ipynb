{
 "cells": [
  {
   "cell_type": "markdown",
   "id": "numeric-faculty",
   "metadata": {},
   "source": [
    "# Operators: \n",
    "Operators are used to perform operations on variables values"
   ]
  },
  {
   "cell_type": "markdown",
   "id": "underlying-going",
   "metadata": {},
   "source": [
    "# Arithmetic Operators: \n",
    "Arithmetic operators are used with numeric values to perform common mathematical operations."
   ]
  },
  {
   "cell_type": "markdown",
   "id": "continent-patrol",
   "metadata": {},
   "source": [
    "## Addition --> +"
   ]
  },
  {
   "cell_type": "code",
   "execution_count": 1,
   "id": "random-diary",
   "metadata": {},
   "outputs": [
    {
     "name": "stdout",
     "output_type": "stream",
     "text": [
      "The sum is:  5\n"
     ]
    }
   ],
   "source": [
    "x = 3\n",
    "y = 2\n",
    "sum = x + y\n",
    "print(\"The sum is: \",sum)"
   ]
  },
  {
   "cell_type": "markdown",
   "id": "sensitive-circular",
   "metadata": {},
   "source": [
    "## Subtraction --> -"
   ]
  },
  {
   "cell_type": "code",
   "execution_count": 2,
   "id": "played-habitat",
   "metadata": {},
   "outputs": [
    {
     "name": "stdout",
     "output_type": "stream",
     "text": [
      "x minus y is:  1\n"
     ]
    }
   ],
   "source": [
    "sub = x - y\n",
    "print(\"x minus y is: \",sub)"
   ]
  },
  {
   "cell_type": "markdown",
   "id": "divine-classic",
   "metadata": {},
   "source": [
    "## Multiplication --> *"
   ]
  },
  {
   "cell_type": "code",
   "execution_count": 3,
   "id": "objective-scholarship",
   "metadata": {},
   "outputs": [
    {
     "name": "stdout",
     "output_type": "stream",
     "text": [
      "The product is:  6\n"
     ]
    }
   ],
   "source": [
    "product = x * y\n",
    "print(\"The product is: \",product)"
   ]
  },
  {
   "cell_type": "markdown",
   "id": "active-sheffield",
   "metadata": {},
   "source": [
    "##  Division --> /"
   ]
  },
  {
   "cell_type": "code",
   "execution_count": 4,
   "id": "deluxe-working",
   "metadata": {},
   "outputs": [
    {
     "name": "stdout",
     "output_type": "stream",
     "text": [
      "The division is:  1.5\n"
     ]
    }
   ],
   "source": [
    "division = x / y\n",
    "print(\"The division is: \",division)"
   ]
  },
  {
   "cell_type": "markdown",
   "id": "textile-armenia",
   "metadata": {},
   "source": [
    "## Modulus --> %"
   ]
  },
  {
   "cell_type": "code",
   "execution_count": 5,
   "id": "wrapped-violation",
   "metadata": {},
   "outputs": [
    {
     "name": "stdout",
     "output_type": "stream",
     "text": [
      "The reminder is:  1\n"
     ]
    }
   ],
   "source": [
    "reminder = x % y\n",
    "print(\"The reminder is: \",reminder)"
   ]
  },
  {
   "cell_type": "markdown",
   "id": "elegant-communist",
   "metadata": {},
   "source": [
    "## Exponentiation --> **"
   ]
  },
  {
   "cell_type": "code",
   "execution_count": 6,
   "id": "crazy-suspect",
   "metadata": {},
   "outputs": [
    {
     "name": "stdout",
     "output_type": "stream",
     "text": [
      "x to the power of y is:  9\n"
     ]
    }
   ],
   "source": [
    "exponent = x ** y\n",
    "print(\"x to the power of y is: \",exponent)"
   ]
  },
  {
   "cell_type": "markdown",
   "id": "broke-howard",
   "metadata": {},
   "source": [
    "## Floor Division --> //"
   ]
  },
  {
   "cell_type": "markdown",
   "id": "driven-morgan",
   "metadata": {},
   "source": [
    "# Assignment Operators: \n",
    "Assignment operators are used to assign values to variables. "
   ]
  },
  {
   "cell_type": "code",
   "execution_count": null,
   "id": "royal-spray",
   "metadata": {},
   "outputs": [],
   "source": [
    "## Operator --> Example  ------> Same As\n",
    "## =    -----------> x = 5   ----------> x = 5\n",
    "## +=  -----------> x += 5 ----------> x = x + 5\n",
    "## -=   -----------> x -= 5  ----------> x = x - 5\n",
    "## *=   -----------> x* = 5  ----------> x = x * 5\n",
    "## /=   -----------> x /= 5  ----------> x = x / 5\n",
    "## %= -----------> x %= 5----------> x = x % 5\n",
    "## //=  -----------> x //= 5 ----------> x = x // 5\n",
    "## **= -----------> x **= 5 ----------> x = x ** 5\n",
    "## &= -----------> x &= 5 ----------> x = x & 5\n",
    "## |=   -----------> x |= 5   ----------> x = x | 5\n",
    "## ^=  -----------> x ^= 5  ----------> x = x ^ 5\n",
    "## >>=-----------> x >>= 5----------> x = x >> 5\n",
    "## <<=-----------> x <<= 5----------> x = x << 5"
   ]
  },
  {
   "cell_type": "markdown",
   "id": "mounted-following",
   "metadata": {},
   "source": [
    "# Comparison Operators: \n",
    "Comparison operators are used to compare two values. "
   ]
  },
  {
   "cell_type": "code",
   "execution_count": 7,
   "id": "instrumental-avatar",
   "metadata": {},
   "outputs": [],
   "source": [
    "# Operator --> Example        --> Same As\n",
    "# ==       --> Equal          --> x == y\n",
    "# !=       --> Not Equal      --> x != y\n",
    "# >        --> Greater Than   --> x > y\n",
    "# <        --> Less Than      --> x < y\n",
    "# >=       --> Greater Than or Equal To --> x >= y\n",
    "# <=       --> Less Than or Equal To --> x <= y"
   ]
  },
  {
   "cell_type": "markdown",
   "id": "requested-resident",
   "metadata": {},
   "source": [
    "# Logical Operators: \n",
    "Logical operators are used to combine conditional statements. "
   ]
  },
  {
   "cell_type": "code",
   "execution_count": 8,
   "id": "incoming-argument",
   "metadata": {},
   "outputs": [],
   "source": [
    "# Operator --> Description --> Example\n",
    "# and --> Returns True if both statemensts are true --> x < 5 and x < 10\n",
    "# or --> Returns Ture if one of the statements is true --> x < 5 or x < 4\n",
    "# not --> Reverse the result, returns False if the result is true --> not(x < 4 and x < 5)"
   ]
  },
  {
   "cell_type": "code",
   "execution_count": null,
   "id": "naval-defeat",
   "metadata": {},
   "outputs": [],
   "source": [
    "# Identity Operators: \n",
    "Identity operators are used to compare the objects, not if they are equal, but if they are actually the same object with the same memory location."
   ]
  }
 ],
 "metadata": {
  "kernelspec": {
   "display_name": "Python 3",
   "language": "python",
   "name": "python3"
  },
  "language_info": {
   "codemirror_mode": {
    "name": "ipython",
    "version": 3
   },
   "file_extension": ".py",
   "mimetype": "text/x-python",
   "name": "python",
   "nbconvert_exporter": "python",
   "pygments_lexer": "ipython3",
   "version": "3.9.2"
  }
 },
 "nbformat": 4,
 "nbformat_minor": 5
}
