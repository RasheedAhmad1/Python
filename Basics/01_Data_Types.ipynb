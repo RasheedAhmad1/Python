{
 "cells": [
  {
   "cell_type": "markdown",
   "id": "informal-louisiana",
   "metadata": {},
   "source": [
    "# Data Types: \n",
    "Data type is the representation of nature and type of data that has been going to be used in programming\n",
    "Python has the following data types by default\n",
    "* Text type: str\n",
    "* Numeric types: int, float, complex\n",
    "* Sequence types: list, tuple, range\n",
    "* Mapping types: set, frozenset\n",
    "* Boolean type: bool\n",
    "* Binary types: Bytes, bytearray, memoryview"
   ]
  },
  {
   "cell_type": "markdown",
   "id": "hollywood-message",
   "metadata": {},
   "source": [
    "## Numeric Data Types\n",
    "* int \n",
    "* float \n",
    "* complex"
   ]
  },
  {
   "cell_type": "code",
   "execution_count": 1,
   "id": "smart-security",
   "metadata": {},
   "outputs": [
    {
     "name": "stdout",
     "output_type": "stream",
     "text": [
      "24\n",
      "<class 'int'>\n"
     ]
    }
   ],
   "source": [
    "#int: A number with no decimal\n",
    "age = 24\n",
    "print(age)\n",
    "print(type(age))"
   ]
  },
  {
   "cell_type": "code",
   "execution_count": 2,
   "id": "least-bunny",
   "metadata": {},
   "outputs": [
    {
     "name": "stdout",
     "output_type": "stream",
     "text": [
      "5.11\n",
      "<class 'float'>\n"
     ]
    }
   ],
   "source": [
    "#float: A number with a decimal\n",
    "height = 5.11\n",
    "print(height)\n",
    "print(type(height))"
   ]
  },
  {
   "cell_type": "code",
   "execution_count": 3,
   "id": "taken-wichita",
   "metadata": {},
   "outputs": [
    {
     "name": "stdout",
     "output_type": "stream",
     "text": [
      "5j\n",
      "<class 'complex'>\n"
     ]
    }
   ],
   "source": [
    "#complex: A number with a letter\n",
    "a = 5j\n",
    "print(a)\n",
    "print(type(a))"
   ]
  },
  {
   "cell_type": "markdown",
   "id": "bottom-luther",
   "metadata": {},
   "source": [
    "## Text/String type\n",
    "* str"
   ]
  },
  {
   "cell_type": "code",
   "execution_count": 4,
   "id": "conditional-qualification",
   "metadata": {},
   "outputs": [
    {
     "name": "stdout",
     "output_type": "stream",
     "text": [
      "Rasheed Jan\n",
      "<class 'str'>\n"
     ]
    }
   ],
   "source": [
    "#str: Text enclosed in single or double quotes\n",
    "name = \"Rasheed Jan\"\n",
    "print(name)\n",
    "print(type(name))"
   ]
  },
  {
   "cell_type": "markdown",
   "id": "white-samoa",
   "metadata": {},
   "source": [
    "## Sequence Types\n",
    "* list\n",
    "* tuple\n",
    "* range"
   ]
  },
  {
   "cell_type": "markdown",
   "id": "third-imperial",
   "metadata": {},
   "source": [
    "### list: \n",
    "list can hold same or different types of values/datatypes and enclosed in square brackets\n",
    "* lists are used to store multiple items in a single variable\n",
    "* lists are mutable, means that the values can be changed once initialized"
   ]
  },
  {
   "cell_type": "code",
   "execution_count": 5,
   "id": "chemical-seattle",
   "metadata": {},
   "outputs": [
    {
     "name": "stdout",
     "output_type": "stream",
     "text": [
      "[1, 4, 20.5, 'eggs']\n",
      "<class 'list'>\n"
     ]
    }
   ],
   "source": [
    "items = [1, 4, 20.5, 'eggs']\n",
    "print(items)\n",
    "print(type(items))"
   ]
  },
  {
   "cell_type": "markdown",
   "id": "indirect-arnold",
   "metadata": {},
   "source": [
    "#### Looping through a list\n",
    "* 'for in' is used\n",
    "Iterates over the list"
   ]
  },
  {
   "cell_type": "code",
   "execution_count": 6,
   "id": "gentle-morocco",
   "metadata": {},
   "outputs": [
    {
     "name": "stdout",
     "output_type": "stream",
     "text": [
      "1\n",
      "2\n",
      "3\n",
      "apple\n",
      "orange\n",
      "mango\n"
     ]
    }
   ],
   "source": [
    "elements = [1,2,3,'apple','orange','mango']\n",
    "for element in elements:\n",
    "    print(element)"
   ]
  },
  {
   "cell_type": "markdown",
   "id": "proved-forth",
   "metadata": {},
   "source": [
    "#### Lenght of list"
   ]
  },
  {
   "cell_type": "code",
   "execution_count": 7,
   "id": "forty-plain",
   "metadata": {},
   "outputs": [
    {
     "data": {
      "text/plain": [
       "6"
      ]
     },
     "execution_count": 7,
     "metadata": {},
     "output_type": "execute_result"
    }
   ],
   "source": [
    "len(elements)"
   ]
  },
  {
   "cell_type": "markdown",
   "id": "baking-joseph",
   "metadata": {},
   "source": [
    "#### What Is Difference Between Del, Remove and Pop on Python Lists?\n",
    "In python del is a keyword and remove(), pop() are in-built methods. The purpose of these three are same but the behavior is different remove() method delete values or object from the list using value and del and pop() deletes values or object from the list using an index."
   ]
  },
  {
   "cell_type": "markdown",
   "id": "equal-fantasy",
   "metadata": {},
   "source": [
    "#### del Keyword:\n",
    "The del keyword delete any variable, list of values from a list. \n",
    "Syntax:\n",
    "del list_name[index]  -- To delete single value\n",
    "del list_name         -- To delete whole list"
   ]
  },
  {
   "cell_type": "code",
   "execution_count": 8,
   "id": "backed-stopping",
   "metadata": {},
   "outputs": [
    {
     "data": {
      "text/plain": [
       "[2, 5, 6]"
      ]
     },
     "execution_count": 8,
     "metadata": {},
     "output_type": "execute_result"
    }
   ],
   "source": [
    "elements = [1,2,3,4,5,6]\n",
    "del elements[0]\n",
    "del elements[1]\n",
    "del elements[1]\n",
    "elements"
   ]
  },
  {
   "cell_type": "markdown",
   "id": "precise-czech",
   "metadata": {},
   "source": [
    "#### remove() Method:\n",
    "The remove() method removes the first matching value from the list.\n",
    "Syntax:\n",
    "list_name.remove(value)"
   ]
  },
  {
   "cell_type": "code",
   "execution_count": 9,
   "id": "worse-attack",
   "metadata": {},
   "outputs": [
    {
     "data": {
      "text/plain": [
       "[1, 2, 4, 5, 3, 6]"
      ]
     },
     "execution_count": 9,
     "metadata": {},
     "output_type": "execute_result"
    }
   ],
   "source": [
    "elements = [1,2,3,4,5,3,6]\n",
    "elements.remove(3)\n",
    "elements"
   ]
  },
  {
   "cell_type": "markdown",
   "id": "objective-blade",
   "metadata": {},
   "source": [
    "#### pop() Method:\n",
    "The pop() method like del deletes value at a particular index. But pop() method returns deleted value from the list.\n",
    "Syntax:\n",
    "list_name.pop(index)"
   ]
  },
  {
   "cell_type": "code",
   "execution_count": 10,
   "id": "coastal-convergence",
   "metadata": {},
   "outputs": [
    {
     "data": {
      "text/plain": [
       "4"
      ]
     },
     "execution_count": 10,
     "metadata": {},
     "output_type": "execute_result"
    }
   ],
   "source": [
    "elements = [1,2,3,4,5,3,6]\n",
    "elements.pop(3)"
   ]
  },
  {
   "cell_type": "markdown",
   "id": "plain-newport",
   "metadata": {},
   "source": [
    "### tuple: \n",
    "Can hold same or different types of values/datatypes and enclosed in parenthesis\n",
    "* They are immutable, means that the values cannot be changed once initialized"
   ]
  },
  {
   "cell_type": "code",
   "execution_count": 11,
   "id": "binding-exploration",
   "metadata": {},
   "outputs": [
    {
     "name": "stdout",
     "output_type": "stream",
     "text": [
      "('carrot', 'photato', 4, 30.4)\n",
      "<class 'tuple'>\n"
     ]
    }
   ],
   "source": [
    "stuff = ('carrot', 'photato', 4, 30.4)\n",
    "print(stuff)\n",
    "print(type(stuff))"
   ]
  },
  {
   "cell_type": "markdown",
   "id": "capital-shannon",
   "metadata": {},
   "source": [
    "## Mapping Type\n",
    "* dict"
   ]
  },
  {
   "cell_type": "markdown",
   "id": "neural-supply",
   "metadata": {},
   "source": [
    "### dict: \n",
    "Python dictionary is an unordered collection of items. Each item of a dictionary has a key/value pair.\n",
    "* A dictionary is a collection which is ordered*, changeable and does not allow duplicates."
   ]
  },
  {
   "cell_type": "code",
   "execution_count": 12,
   "id": "tamil-seeker",
   "metadata": {},
   "outputs": [
    {
     "name": "stdout",
     "output_type": "stream",
     "text": [
      "{'name': 'Jhon Doe', 'age': 24, 'weight': 64.5}\n",
      "<class 'dict'>\n"
     ]
    }
   ],
   "source": [
    "data = {'name': 'Jhon Doe', 'age': 24, 'weight': 64.5}\n",
    "print(data)\n",
    "print(type(data))"
   ]
  },
  {
   "cell_type": "markdown",
   "id": "surprising-bookmark",
   "metadata": {},
   "source": [
    "## Set Types\n",
    "* set\n",
    "* frozenset"
   ]
  },
  {
   "cell_type": "markdown",
   "id": "accessible-think",
   "metadata": {},
   "source": [
    "### set: \n",
    "A set is an unordered collection of items. \n",
    "* Every set element is unique (no duplicates) and must be immutable (cannot be changed)."
   ]
  },
  {
   "cell_type": "code",
   "execution_count": 13,
   "id": "cross-bloom",
   "metadata": {},
   "outputs": [
    {
     "name": "stdout",
     "output_type": "stream",
     "text": [
      "{1, 2, 3}\n",
      "<class 'set'>\n"
     ]
    }
   ],
   "source": [
    "# set of integers\n",
    "my_set1 = {1, 2, 3} # or my_set2 = set(1, 2, 3)\n",
    "print(my_set1)\n",
    "print(type(my_set1))"
   ]
  },
  {
   "cell_type": "code",
   "execution_count": 14,
   "id": "alternate-freeware",
   "metadata": {},
   "outputs": [
    {
     "name": "stdout",
     "output_type": "stream",
     "text": [
      "{1.0, (1, 2, 3), 'Hello'}\n",
      "<class 'set'>\n"
     ]
    }
   ],
   "source": [
    "# set of mixed datatypes\n",
    "my_set2 = {1.0, \"Hello\", (1, 2, 3)} # or my_set2 = set(1.0, \"Hello\", (1, 2, 3))\n",
    "print(my_set2)\n",
    "print(type(my_set2))"
   ]
  },
  {
   "cell_type": "markdown",
   "id": "communist-sitting",
   "metadata": {},
   "source": [
    "### forzenset:\n",
    "Frozen set is just an immutable version of a Python set object.\n",
    "* While elements of a set can be modified at any time, elements of the frozen set remain the same after creation. \n",
    "* Due to this, frozen sets can be used as keys in Dictionary or as elements of another set."
   ]
  },
  {
   "cell_type": "code",
   "execution_count": 15,
   "id": "compliant-excellence",
   "metadata": {},
   "outputs": [
    {
     "name": "stdout",
     "output_type": "stream",
     "text": [
      "{'name', 'age', 'sex'}\n",
      "<class 'set'>\n"
     ]
    }
   ],
   "source": [
    "person = ({'name', 'age', 'sex'}) # or person = frozenset('name', 'age', 'sex')\n",
    "print(person)\n",
    "print(type(person))"
   ]
  },
  {
   "cell_type": "markdown",
   "id": "closed-cabinet",
   "metadata": {},
   "source": [
    "* frozenset(): The frozenset() function returns an immutable frozenset object initialized with elements from the given iterable.\n",
    "* frozenset([iterable])\n",
    "* iterable (Optional) - the iterable which contains elements to initialize the frozenset with. \n",
    "* Iterable can be set, dictionary, tuple, etc."
   ]
  },
  {
   "cell_type": "code",
   "execution_count": 16,
   "id": "endangered-bunny",
   "metadata": {},
   "outputs": [
    {
     "name": "stdout",
     "output_type": "stream",
     "text": [
      "The set is now freezed:  frozenset({'e', 'o', 'u', 'i', 'a'})\n"
     ]
    }
   ],
   "source": [
    "vowels = ('a', 'e', 'i', 'o', 'u')\n",
    "fSet = frozenset(vowels)\n",
    "print('The set is now freezed: ', fSet)"
   ]
  },
  {
   "cell_type": "markdown",
   "id": "legitimate-wrestling",
   "metadata": {},
   "source": [
    "## Boolean\n",
    "* bool"
   ]
  },
  {
   "cell_type": "markdown",
   "id": "negative-hello",
   "metadata": {},
   "source": [
    "### bool: \n",
    "Booleans represent one of two values: True or False ."
   ]
  },
  {
   "cell_type": "code",
   "execution_count": 17,
   "id": "small-paper",
   "metadata": {},
   "outputs": [
    {
     "name": "stdout",
     "output_type": "stream",
     "text": [
      "True False\n",
      "<class 'bool'>\n",
      "<class 'bool'>\n"
     ]
    }
   ],
   "source": [
    "j = True\n",
    "k = False \n",
    "print(j, k)\n",
    "print(type(j))\n",
    "print(type(k))"
   ]
  },
  {
   "cell_type": "markdown",
   "id": "critical-lucas",
   "metadata": {},
   "source": [
    "## Binary types\n",
    "* Byte\n",
    "* bytearray\n",
    "* memoryview"
   ]
  }
 ],
 "metadata": {
  "kernelspec": {
   "display_name": "Python 3",
   "language": "python",
   "name": "python3"
  },
  "language_info": {
   "codemirror_mode": {
    "name": "ipython",
    "version": 3
   },
   "file_extension": ".py",
   "mimetype": "text/x-python",
   "name": "python",
   "nbconvert_exporter": "python",
   "pygments_lexer": "ipython3",
   "version": "3.9.2"
  }
 },
 "nbformat": 4,
 "nbformat_minor": 5
}
