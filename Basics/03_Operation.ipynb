{
 "cells": [
  {
   "cell_type": "markdown",
   "id": "racial-madrid",
   "metadata": {},
   "source": [
    "# Order of Operation\n",
    "python mathematic instructions takes BEDMAS Arithmetic operation\n",
    "## BEDMAS\n",
    "* B - Bracket\n",
    "* E - Exponent\n",
    "* D - Division\n",
    "* M - Multiplication\n",
    "* A - Addition\n",
    "* S - Subtraction"
   ]
  },
  {
   "cell_type": "code",
   "execution_count": null,
   "id": "sorted-gamma",
   "metadata": {},
   "outputs": [],
   "source": [
    "x = 2\n",
    "y = 3\n",
    "answer = 5 - 3 * (x + y)** 2 # first x + y --> 5, then 5 square --> 25, then 25 multiplied by 3 --> 75 and then 5 - 75 --> -70\n",
    "print(answer)"
   ]
  },
  {
   "cell_type": "markdown",
   "id": "printable-intervention",
   "metadata": {},
   "source": [
    "# Type Conversion\n",
    "Python numeric data types can be converted into each other types"
   ]
  },
  {
   "cell_type": "code",
   "execution_count": null,
   "id": "noticed-competition",
   "metadata": {},
   "outputs": [],
   "source": [
    "# int to float\n",
    "a = 5 # int type\n",
    "a = float(a)\n",
    "print(type(a))"
   ]
  },
  {
   "cell_type": "code",
   "execution_count": null,
   "id": "twenty-commodity",
   "metadata": {},
   "outputs": [],
   "source": [
    "# float to int\n",
    "b = 5.2 # float type\n",
    "b = int(b)\n",
    "print(type(b))"
   ]
  },
  {
   "cell_type": "code",
   "execution_count": null,
   "id": "appreciated-tractor",
   "metadata": {},
   "outputs": [],
   "source": [
    "# int to complex\n",
    "c = 3 # int type\n",
    "c = complex(c)\n",
    "print(type(c))"
   ]
  },
  {
   "cell_type": "markdown",
   "id": "commercial-junction",
   "metadata": {},
   "source": [
    "# Casting: \n",
    "There may be time when you to specify a type on to a variable. This can be done with casting.\n",
    "* Python is an object-oriented language, and as such it uses classes to define data types, including its primitive types.\n",
    "* Casing in python is therefore using constructor functions"
   ]
  },
  {
   "cell_type": "markdown",
   "id": "resistant-authority",
   "metadata": {},
   "source": [
    "## int() \n",
    "Constructs an integer number from an integer literal, a float literal(by rounding down to the previous whole number), or a string literal(providing the string represents a whole number)"
   ]
  },
  {
   "cell_type": "code",
   "execution_count": null,
   "id": "cardiac-madagascar",
   "metadata": {},
   "outputs": [],
   "source": [
    "d = 2\n",
    "e = 2.5\n",
    "f = '25'\n",
    "d = int(d)\n",
    "e = int(e)\n",
    "f = int(f)\n",
    "print(type(d))\n",
    "print(type(e))\n",
    "print(type(f))"
   ]
  },
  {
   "cell_type": "markdown",
   "id": "golden-rachel",
   "metadata": {},
   "source": [
    "## float() \n",
    "Consturcts a float number from an interger literal, a float literal, or a string literal(providing the string represents a float or an integer)"
   ]
  },
  {
   "cell_type": "code",
   "execution_count": null,
   "id": "transsexual-ordinance",
   "metadata": {},
   "outputs": [],
   "source": [
    "g = 2\n",
    "h = 2.5\n",
    "i = '3.2'\n",
    "j = '5'\n",
    "g = float(f)\n",
    "h = float(g)\n",
    "i = float(h)\n",
    "j = float(j)\n",
    "print(type(g))\n",
    "print(type(h))\n",
    "print(type(i))\n",
    "print(type(j))"
   ]
  },
  {
   "cell_type": "markdown",
   "id": "juvenile-mouth",
   "metadata": {},
   "source": [
    "## str() \n",
    "Constructs a string from a wide variety of data types, inclucing strings, integer literals, and float literals"
   ]
  },
  {
   "cell_type": "code",
   "execution_count": null,
   "id": "cultural-sauce",
   "metadata": {},
   "outputs": [],
   "source": [
    "k = 5\n",
    "l = 2.5\n",
    "k = str(h)\n",
    "l = str(i)\n",
    "print(type(k))\n",
    "print(type(l))"
   ]
  }
 ],
 "metadata": {
  "kernelspec": {
   "display_name": "Python 3",
   "language": "python",
   "name": "python3"
  },
  "language_info": {
   "codemirror_mode": {
    "name": "ipython",
    "version": 3
   },
   "file_extension": ".py",
   "mimetype": "text/x-python",
   "name": "python",
   "nbconvert_exporter": "python",
   "pygments_lexer": "ipython3",
   "version": "3.9.2"
  }
 },
 "nbformat": 4,
 "nbformat_minor": 5
}
