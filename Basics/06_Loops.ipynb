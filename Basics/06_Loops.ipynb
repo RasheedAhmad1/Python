{
 "cells": [
  {
   "cell_type": "markdown",
   "id": "planned-programming",
   "metadata": {},
   "source": [
    "# Loops\n",
    "Python has two primitive loops commands:\n",
    "* While loop\n",
    "* for loop"
   ]
  },
  {
   "cell_type": "markdown",
   "id": "qualified-savings",
   "metadata": {},
   "source": [
    "## while loop\n",
    "* With the while loop we can execute a set of statements as long as a condition is true.\n",
    "* A 'break' statement can stop the loop even if the condition is true\n",
    "* A 'continue' statement we can stop the current iteration"
   ]
  },
  {
   "cell_type": "code",
   "execution_count": null,
   "id": "detailed-driving",
   "metadata": {},
   "outputs": [],
   "source": [
    "i = 1\n",
    "while i <= 10:\n",
    "    print(i)\n",
    "    i+=1"
   ]
  },
  {
   "cell_type": "code",
   "execution_count": null,
   "id": "premier-dispatch",
   "metadata": {},
   "outputs": [],
   "source": [
    "# break statement\n",
    "j = 1\n",
    "while j <= 6:\n",
    "    print(j)\n",
    "    if j == 3:\n",
    "        break\n",
    "    j = j+1"
   ]
  },
  {
   "cell_type": "code",
   "execution_count": null,
   "id": "threatened-bruce",
   "metadata": {},
   "outputs": [],
   "source": [
    "# continue statement\n",
    "# print only odd numbers\n",
    "k = 1\n",
    "while k <= 10:\n",
    "    if k % 2 != 0:\n",
    "        print(k)\n",
    "    k+=1\n",
    "    continue"
   ]
  },
  {
   "cell_type": "code",
   "execution_count": null,
   "id": "environmental-hanging",
   "metadata": {},
   "outputs": [],
   "source": [
    "# A Continue statement we can stop the current iteration\n",
    "i = 0\n",
    "while i < 6:\n",
    "    i += 1\n",
    "    if i == 3:\n",
    "        continue\n",
    "    print(i)"
   ]
  },
  {
   "cell_type": "markdown",
   "id": "changing-entertainment",
   "metadata": {},
   "source": [
    "## for loop\n",
    "* A for loop is used for iterating over a sequence (that is either a list, a tuple, a dictionary, a set, or a string).\n",
    "* This is less like the for keyword in other programming languages, and works more like an iterator method as found in other object-orientated programming languages."
   ]
  },
  {
   "cell_type": "code",
   "execution_count": null,
   "id": "cordless-innocent",
   "metadata": {},
   "outputs": [],
   "source": [
    "# Looping through a list\n",
    "Os = ['Windows', 'Linux', 'MacOS']\n",
    "for item in Os:\n",
    "    print(item)"
   ]
  },
  {
   "cell_type": "code",
   "execution_count": null,
   "id": "functional-custom",
   "metadata": {},
   "outputs": [],
   "source": [
    "# Looping through a String\n",
    "for i in 'Windows':\n",
    "    print(i)"
   ]
  },
  {
   "cell_type": "markdown",
   "id": "married-prompt",
   "metadata": {},
   "source": [
    "## range() function with for loop\n",
    "* range(Start_point, Ends_before_this_point, Step_size)\n",
    "* The range() function returns a sequence of numbers, starting from 0 by default, and increments by 1 (by default), \n",
    "* and stops before a specified number. The former two parameters are optional."
   ]
  },
  {
   "cell_type": "code",
   "execution_count": null,
   "id": "electric-order",
   "metadata": {},
   "outputs": [],
   "source": [
    "for j in range(11):\n",
    "    print(j)"
   ]
  },
  {
   "cell_type": "code",
   "execution_count": null,
   "id": "intermediate-arkansas",
   "metadata": {},
   "outputs": [],
   "source": [
    "# Else statement with for loop\n",
    "for k in range(6):\n",
    "    print(k)\n",
    "else:\n",
    "    print('The loop ended')"
   ]
  }
 ],
 "metadata": {
  "kernelspec": {
   "display_name": "Python 3",
   "language": "python",
   "name": "python3"
  },
  "language_info": {
   "codemirror_mode": {
    "name": "ipython",
    "version": 3
   },
   "file_extension": ".py",
   "mimetype": "text/x-python",
   "name": "python",
   "nbconvert_exporter": "python",
   "pygments_lexer": "ipython3",
   "version": "3.9.2"
  }
 },
 "nbformat": 4,
 "nbformat_minor": 5
}
