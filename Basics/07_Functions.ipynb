{
 "cells": [
  {
   "cell_type": "markdown",
   "id": "subject-peoples",
   "metadata": {},
   "source": [
    "# Function\n",
    "A function is a block of code which only runs when it is called\n",
    "* You can pass data, known as parameters, into a function\n",
    "* A function can return data as a result\n",
    "* In python a function is defined using the 'def' keyword\n",
    "* To call a function, use the function name followed by parenthesis"
   ]
  },
  {
   "cell_type": "code",
   "execution_count": 1,
   "id": "professional-ground",
   "metadata": {},
   "outputs": [
    {
     "name": "stdout",
     "output_type": "stream",
     "text": [
      "I am a function\n"
     ]
    }
   ],
   "source": [
    "# define a fuction\n",
    "def name():\n",
    "    print('I am a function')\n",
    "name()"
   ]
  },
  {
   "cell_type": "code",
   "execution_count": 8,
   "id": "eligible-ethernet",
   "metadata": {},
   "outputs": [
    {
     "name": "stdout",
     "output_type": "stream",
     "text": [
      "You passed: Rasheed\n"
     ]
    }
   ],
   "source": [
    "# Passing argument to a function\n",
    "def print_name(name): # 'name' --> parameter\n",
    "    print('You passed: '+name)\n",
    "print_name('Rasheed') # 'Rasheed' --> argument"
   ]
  },
  {
   "cell_type": "code",
   "execution_count": 9,
   "id": "fifty-theory",
   "metadata": {},
   "outputs": [
    {
     "name": "stdout",
     "output_type": "stream",
     "text": [
      "My full name is: Rasheed Ahmad\n"
     ]
    }
   ],
   "source": [
    "# function with multiple parameters\n",
    "def print_full_name(fName, lName):\n",
    "    print('My full name is: '+fName+' '+lName)\n",
    "print_full_name('Rasheed', 'Ahmad')"
   ]
  },
  {
   "cell_type": "code",
   "execution_count": 11,
   "id": "lesser-privacy",
   "metadata": {},
   "outputs": [
    {
     "name": "stdout",
     "output_type": "stream",
     "text": [
      "My full name is: Simon Jhon\n"
     ]
    }
   ],
   "source": [
    "# function with default parameter values\n",
    "def print_full_name(fName='Simon', lName='Jhon'):\n",
    "    print('My full name is: '+fName+' '+lName)\n",
    "print_full_name()"
   ]
  },
  {
   "cell_type": "code",
   "execution_count": 10,
   "id": "detected-tyler",
   "metadata": {},
   "outputs": [
    {
     "data": {
      "text/plain": [
       "5"
      ]
     },
     "execution_count": 10,
     "metadata": {},
     "output_type": "execute_result"
    }
   ],
   "source": [
    "# function return a value\n",
    "def sum(a, b):\n",
    "    c = a+b\n",
    "    return c\n",
    "sum(3, 2)"
   ]
  },
  {
   "cell_type": "code",
   "execution_count": 12,
   "id": "complex-juvenile",
   "metadata": {},
   "outputs": [
    {
     "name": "stdout",
     "output_type": "stream",
     "text": [
      "apple\n",
      "banana\n",
      "orange\n"
     ]
    }
   ],
   "source": [
    "# passing a list as an argument\n",
    "def stuff(items):\n",
    "    for item in items:\n",
    "        print(item)\n",
    "stuff(['apple', 'banana', 'orange'])"
   ]
  },
  {
   "cell_type": "markdown",
   "id": "veterinary-beauty",
   "metadata": {},
   "source": [
    "## Passing Multiple Arguments to a Function\n",
    "\\*args and \\*\\*kwargs allow you to pass multiple arguments or keyword arguments to a function. Consider the following example. This is a simple function that takes two arguments and returns their sum:"
   ]
  },
  {
   "cell_type": "code",
   "execution_count": 13,
   "id": "copyrighted-indian",
   "metadata": {},
   "outputs": [],
   "source": [
    "def my_sum(a, b):\n",
    "    return a + b"
   ]
  },
  {
   "cell_type": "markdown",
   "id": "united-benefit",
   "metadata": {},
   "source": [
    "This function works fine, but it’s limited to only two arguments. What if you need to sum a varying number of arguments, where the specific number of arguments passed is only determined at runtime? Wouldn’t it be great to create a function that could sum all the integers passed to it, no matter how many there are?"
   ]
  },
  {
   "cell_type": "markdown",
   "id": "exotic-concord",
   "metadata": {},
   "source": [
    "## Using the Python args Variable in Function Definitions"
   ]
  },
  {
   "cell_type": "markdown",
   "id": "peaceful-potter",
   "metadata": {},
   "source": [
    "There are a few ways you can pass a varying number of arguments to a function. The first way is often the most intuitive for people that have experience with collections. You simply pass a list or a set of all the arguments to your function. So for my_sum(), you could pass a list of all the integers you need to add:"
   ]
  },
  {
   "cell_type": "code",
   "execution_count": 14,
   "id": "bored-damages",
   "metadata": {},
   "outputs": [
    {
     "name": "stdout",
     "output_type": "stream",
     "text": [
      "6\n"
     ]
    }
   ],
   "source": [
    "def my_sum(my_integers):\n",
    "    result = 0\n",
    "    for x in my_integers:\n",
    "        result += x\n",
    "    return result\n",
    "\n",
    "list_of_integers = [1, 2, 3]\n",
    "print(my_sum(list_of_integers))"
   ]
  },
  {
   "cell_type": "markdown",
   "id": "english-electron",
   "metadata": {},
   "source": [
    "This implementation works, but whenever you call this function you’ll also need to create a list of arguments to pass to it. This can be inconvenient, especially if you don’t know up front all the values that should go into the list.\n",
    "\n",
    "This is where *args can be really useful, because it allows you to pass a varying number of positional arguments. Take the following example:"
   ]
  },
  {
   "cell_type": "code",
   "execution_count": 5,
   "id": "finished-service",
   "metadata": {},
   "outputs": [
    {
     "name": "stdout",
     "output_type": "stream",
     "text": [
      "12\n"
     ]
    }
   ],
   "source": [
    "def my_sum(*args):\n",
    "    result = 0\n",
    "    # Iterating over the Python args tuple\n",
    "    for x in args:\n",
    "        result += x\n",
    "    return result\n",
    "\n",
    "data = (2, 4, 6)\n",
    "print(my_sum(2, 4, 6))"
   ]
  },
  {
   "cell_type": "markdown",
   "id": "artistic-fluid",
   "metadata": {},
   "source": [
    "In this example, you’re no longer passing a list to my_sum(). Instead, you’re passing three different positional arguments. my_sum() takes all the parameters that are provided in the input and packs them all into a single iterable object named args. (The parameters passed to the addition function are stored in a tuple. Thus, we can iterate over the args variable.)\n",
    "\n",
    "Note that args is just a name. You’re not required to use the name args. You can choose any name that you prefer, such as integers:"
   ]
  },
  {
   "cell_type": "code",
   "execution_count": 16,
   "id": "chinese-proceeding",
   "metadata": {},
   "outputs": [
    {
     "name": "stdout",
     "output_type": "stream",
     "text": [
      "6\n"
     ]
    }
   ],
   "source": [
    "def my_sum(*integers):\n",
    "    result = 0\n",
    "    for x in integers:\n",
    "        result += x\n",
    "    return result\n",
    "\n",
    "print(my_sum(1, 2, 3))"
   ]
  },
  {
   "cell_type": "markdown",
   "id": "massive-charger",
   "metadata": {},
   "source": [
    "The function still works, even if you pass the iterable object as integers instead of args. All that matters here is that you use the unpacking operator (*).\n",
    "\n",
    "Bear in mind that the iterable object you’ll get using the unpacking operator * is not a list but a tuple. A tuple is similar to a list in that they both support slicing and iteration. However, tuples are very different in at least one aspect: lists are mutable, while tuples are not. To test this, run the following code. This script tries to change a value of a list:"
   ]
  },
  {
   "cell_type": "code",
   "execution_count": 17,
   "id": "satisfactory-novel",
   "metadata": {},
   "outputs": [
    {
     "name": "stdout",
     "output_type": "stream",
     "text": [
      "[9, 2, 3]\n"
     ]
    }
   ],
   "source": [
    "my_list = [1, 2, 3]\n",
    "my_list[0] = 9\n",
    "print(my_list)\n",
    "# The value located at the very first index of the list should be updated to 9. \n",
    "# If you execute this script, you will see that the list indeed gets modified:"
   ]
  },
  {
   "cell_type": "markdown",
   "id": "humanitarian-round",
   "metadata": {},
   "source": [
    "The first value is no longer 0, but the updated value 9. Now, try to do the same with a tuple:"
   ]
  },
  {
   "cell_type": "code",
   "execution_count": 18,
   "id": "interim-freeze",
   "metadata": {},
   "outputs": [
    {
     "ename": "TypeError",
     "evalue": "'tuple' object does not support item assignment",
     "output_type": "error",
     "traceback": [
      "\u001b[1;31m---------------------------------------------------------------------------\u001b[0m",
      "\u001b[1;31mTypeError\u001b[0m                                 Traceback (most recent call last)",
      "\u001b[1;32m<ipython-input-18-ccf4b9e77723>\u001b[0m in \u001b[0;36m<module>\u001b[1;34m\u001b[0m\n\u001b[0;32m      1\u001b[0m \u001b[0mmy_tuple\u001b[0m \u001b[1;33m=\u001b[0m \u001b[1;33m(\u001b[0m\u001b[1;36m1\u001b[0m\u001b[1;33m,\u001b[0m \u001b[1;36m2\u001b[0m\u001b[1;33m,\u001b[0m \u001b[1;36m3\u001b[0m\u001b[1;33m)\u001b[0m\u001b[1;33m\u001b[0m\u001b[1;33m\u001b[0m\u001b[0m\n\u001b[1;32m----> 2\u001b[1;33m \u001b[0mmy_tuple\u001b[0m\u001b[1;33m[\u001b[0m\u001b[1;36m0\u001b[0m\u001b[1;33m]\u001b[0m \u001b[1;33m=\u001b[0m \u001b[1;36m9\u001b[0m\u001b[1;33m\u001b[0m\u001b[1;33m\u001b[0m\u001b[0m\n\u001b[0m\u001b[0;32m      3\u001b[0m \u001b[0mprint\u001b[0m\u001b[1;33m(\u001b[0m\u001b[0mmy_tuple\u001b[0m\u001b[1;33m)\u001b[0m\u001b[1;33m\u001b[0m\u001b[1;33m\u001b[0m\u001b[0m\n",
      "\u001b[1;31mTypeError\u001b[0m: 'tuple' object does not support item assignment"
     ]
    }
   ],
   "source": [
    "my_tuple = (1, 2, 3)\n",
    "my_tuple[0] = 9\n",
    "print(my_tuple)"
   ]
  },
  {
   "cell_type": "markdown",
   "id": "extensive-tumor",
   "metadata": {},
   "source": [
    "Here, you see the same values, except they’re held together as a tuple. If you try to execute this script, you will see that the Python interpreter returns an error:\n",
    "This is because a tuple is an immutable object, and its values cannot be changed after assignment. Keep this in mind when you’re working with tuples and *args."
   ]
  },
  {
   "cell_type": "markdown",
   "id": "meaningful-tiffany",
   "metadata": {},
   "source": [
    "Using the Python kwargs Variable in Function Definitions\n",
    "Okay, now you’ve understood what *args is for, but what about **kwargs? **kwargs works just like *args, but instead of accepting positional arguments it accepts keyword (or named) arguments. Take the following example:"
   ]
  },
  {
   "cell_type": "code",
   "execution_count": 19,
   "id": "underlying-television",
   "metadata": {},
   "outputs": [
    {
     "name": "stdout",
     "output_type": "stream",
     "text": [
      "RealPythonIsGreat!\n"
     ]
    }
   ],
   "source": [
    "def concatenate(**kwargs):\n",
    "    result = \"\"\n",
    "    # Iterating over the Python kwargs dictionary\n",
    "    for arg in kwargs.values():\n",
    "        result += arg\n",
    "    return result\n",
    "\n",
    "print(concatenate(a=\"Real\", b=\"Python\", c=\"Is\", d=\"Great\", e=\"!\"))"
   ]
  },
  {
   "cell_type": "markdown",
   "id": "precious-parallel",
   "metadata": {},
   "source": [
    "When you execute the script above, concatenate() will iterate through the Python kwargs dictionary and concatenate all the values it finds.\n",
    "\n",
    "Like args, kwargs is just a name that can be changed to whatever you want. Again, what is important here is the use of the unpacking operator (**).\n",
    "\n",
    "So, the previous example could be written like this:"
   ]
  },
  {
   "cell_type": "code",
   "execution_count": 20,
   "id": "lesbian-colorado",
   "metadata": {},
   "outputs": [
    {
     "name": "stdout",
     "output_type": "stream",
     "text": [
      "RealPythonIsGreat!\n"
     ]
    }
   ],
   "source": [
    "def concatenate(**words):\n",
    "    result = \"\"\n",
    "    for arg in words.values():\n",
    "        result += arg\n",
    "    return result\n",
    "\n",
    "print(concatenate(a=\"Real\", b=\"Python\", c=\"Is\", d=\"Great\", e=\"!\"))"
   ]
  },
  {
   "cell_type": "markdown",
   "id": "absent-deadline",
   "metadata": {},
   "source": [
    "Note that in the example above the iterable object is a standard dict. If you iterate over the dictionary and want to return its values, like in the example shown, then you must use .values().\n",
    "\n",
    "In fact, if you forget to use this method, you will find yourself iterating through the keys of your Python kwargs dictionary instead, like in the following example:"
   ]
  },
  {
   "cell_type": "code",
   "execution_count": 21,
   "id": "cubic-watts",
   "metadata": {},
   "outputs": [
    {
     "name": "stdout",
     "output_type": "stream",
     "text": [
      "abcde\n"
     ]
    }
   ],
   "source": [
    "def concatenate(**kwargs):\n",
    "    result = \"\"\n",
    "    # Iterating over the keys of the Python kwargs dictionary\n",
    "    for arg in kwargs:\n",
    "        result += arg\n",
    "    return result\n",
    "\n",
    "print(concatenate(a=\"Real\", b=\"Python\", c=\"Is\", d=\"Great\", e=\"!\"))"
   ]
  },
  {
   "cell_type": "markdown",
   "id": "instant-exploration",
   "metadata": {},
   "source": [
    "As you can see, if you don’t specify .values(), your function will iterate over the keys of your Python kwargs dictionary, returning the wrong result."
   ]
  },
  {
   "cell_type": "code",
   "execution_count": null,
   "id": "united-comparative",
   "metadata": {},
   "outputs": [],
   "source": []
  }
 ],
 "metadata": {
  "kernelspec": {
   "display_name": "Python 3",
   "language": "python",
   "name": "python3"
  },
  "language_info": {
   "codemirror_mode": {
    "name": "ipython",
    "version": 3
   },
   "file_extension": ".py",
   "mimetype": "text/x-python",
   "name": "python",
   "nbconvert_exporter": "python",
   "pygments_lexer": "ipython3",
   "version": "3.9.2"
  }
 },
 "nbformat": 4,
 "nbformat_minor": 5
}
