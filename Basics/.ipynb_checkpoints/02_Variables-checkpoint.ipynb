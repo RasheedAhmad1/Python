{
 "cells": [
  {
   "cell_type": "markdown",
   "id": "obvious-bronze",
   "metadata": {},
   "source": [
    "# Comments\n",
    "* comments are used to explain the code, to make the code more readable and to prevent execution when debugging the code\n",
    "* Python comments are represented by a hash at the begging of the code line<br>\n",
    "Exp: # I am a single line comment"
   ]
  },
  {
   "cell_type": "markdown",
   "id": "universal-spine",
   "metadata": {},
   "source": [
    "# Variables\n",
    "Variables are dyanamically typed in Python"
   ]
  },
  {
   "cell_type": "code",
   "execution_count": 1,
   "id": "ambient-perception",
   "metadata": {},
   "outputs": [],
   "source": [
    "age = 20 # int\n",
    "weight = 64.5 # float\n",
    "name = \"Rasheed Jan\" # string"
   ]
  },
  {
   "cell_type": "markdown",
   "id": "rental-tackle",
   "metadata": {},
   "source": [
    "A variable name cannot start with a number or a special charactor except underscore"
   ]
  },
  {
   "cell_type": "code",
   "execution_count": 3,
   "id": "adequate-venue",
   "metadata": {},
   "outputs": [],
   "source": [
    "# 1name = 'Jhon Doe' # invalid variable name\n",
    "# $age = 24 # invalid variable name\n",
    "# _weight = 64.5 # valid vaiable name"
   ]
  }
 ],
 "metadata": {
  "kernelspec": {
   "display_name": "Python 3",
   "language": "python",
   "name": "python3"
  },
  "language_info": {
   "codemirror_mode": {
    "name": "ipython",
    "version": 3
   },
   "file_extension": ".py",
   "mimetype": "text/x-python",
   "name": "python",
   "nbconvert_exporter": "python",
   "pygments_lexer": "ipython3",
   "version": "3.9.2"
  }
 },
 "nbformat": 4,
 "nbformat_minor": 5
}
