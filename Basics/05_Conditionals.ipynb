{
 "cells": [
  {
   "cell_type": "markdown",
   "id": "olive-place",
   "metadata": {},
   "source": [
    "# Conditional statements\n",
    "* Python supports one additional decision-making entity called a conditional expression. (It is also referred to as a conditional operator or ternary operator in various places in the Python documentation.)\n",
    "* Conditional Statement in Python perform different computations or actions depending on whether a specific Boolean constraint evaluates to true or false. Conditional statements are handled by IF statements in Python."
   ]
  },
  {
   "cell_type": "code",
   "execution_count": null,
   "id": "lyric-times",
   "metadata": {},
   "outputs": [],
   "source": [
    "# if condition\n",
    "a = 2\n",
    "b = 4\n",
    "c = 6\n",
    "\n",
    "if a < b:\n",
    "  print(\"a is less than b\")"
   ]
  },
  {
   "cell_type": "code",
   "execution_count": null,
   "id": "quick-penalty",
   "metadata": {},
   "outputs": [],
   "source": [
    "# if else condition\n",
    "if a < b:\n",
    "  print(\"a is less than b\")\n",
    "else:\n",
    "  print(\"b is greater than a\")"
   ]
  },
  {
   "cell_type": "code",
   "execution_count": null,
   "id": "material-chile",
   "metadata": {},
   "outputs": [],
   "source": [
    "# Multiple conditions\n",
    "if a > b:\n",
    "    print(\" a is greater than b\")\n",
    "elif b > a:\n",
    "    print(\"b is greater than a\")\n",
    "else:\n",
    "    print(\"No\")"
   ]
  },
  {
   "cell_type": "code",
   "execution_count": null,
   "id": "extraordinary-delta",
   "metadata": {},
   "outputs": [],
   "source": [
    "# Nested conditions\n",
    "if a < b:\n",
    "    if b < c:\n",
    "        print(\"a is less than b and b is less than c\")\n",
    "    else:\n",
    "        print(\"c is greater than a and b\")"
   ]
  },
  {
   "cell_type": "code",
   "execution_count": null,
   "id": "enclosed-marriage",
   "metadata": {},
   "outputs": [],
   "source": []
  }
 ],
 "metadata": {
  "kernelspec": {
   "display_name": "Python 3",
   "language": "python",
   "name": "python3"
  },
  "language_info": {
   "codemirror_mode": {
    "name": "ipython",
    "version": 3
   },
   "file_extension": ".py",
   "mimetype": "text/x-python",
   "name": "python",
   "nbconvert_exporter": "python",
   "pygments_lexer": "ipython3",
   "version": "3.9.2"
  }
 },
 "nbformat": 4,
 "nbformat_minor": 5
}
