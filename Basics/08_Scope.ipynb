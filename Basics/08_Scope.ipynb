{
 "cells": [
  {
   "cell_type": "markdown",
   "id": "serious-communist",
   "metadata": {},
   "source": [
    "## Scope\n",
    "A variable is only available from inside the region it is created. This is called Scope."
   ]
  },
  {
   "cell_type": "markdown",
   "id": "composite-flash",
   "metadata": {},
   "source": [
    "### Local scope: \n",
    "A variable created belongs to the local scope of that function, and can only be used inside that function.\n",
    "### Global scope: \n",
    "A variable created in the main body of the python code is a global variable and belongs to the global scope.\n",
    "glabal variables ara available from with in any scope, local or global\n",
    "### Name variables: \n",
    "If you operate with the same variable name inside and outside of a function, python will treat them as two separate variables, one available in the global scope (outside the function) and one available in the local scope (inside the function).\n",
    "### global keyword: \n",
    "If need to create a global variable, but are stuck in a local scope, you can use the global keyword. The global keyword makes the variable global."
   ]
  },
  {
   "cell_type": "code",
   "execution_count": 13,
   "id": "exotic-decrease",
   "metadata": {},
   "outputs": [
    {
     "name": "stdout",
     "output_type": "stream",
     "text": [
      "Hi! my name is Rasheed Ahmad\n",
      "and I am 23 years old.\n"
     ]
    }
   ],
   "source": [
    "# Global and Local scope\n",
    "\n",
    "# global scope\n",
    "name = \"Rasheed Ahmad\"\n",
    "\n",
    "def description():\n",
    "    education = \"BE Software Engg.\" # local scope\n",
    "    global age # global scope\n",
    "    age = 23 # global scope\n",
    "    print(f\"and I am {age} years old.\") \n",
    "    \n",
    "    \n",
    "print(f\"Hi! my name is {name}\")\n",
    "description()"
   ]
  },
  {
   "cell_type": "code",
   "execution_count": 15,
   "id": "correct-undergraduate",
   "metadata": {},
   "outputs": [
    {
     "name": "stdout",
     "output_type": "stream",
     "text": [
      "<function description at 0x000002D7EC484EE0>\n"
     ]
    }
   ],
   "source": [
    "print(description)"
   ]
  },
  {
   "cell_type": "code",
   "execution_count": null,
   "id": "statutory-embassy",
   "metadata": {},
   "outputs": [],
   "source": []
  }
 ],
 "metadata": {
  "kernelspec": {
   "display_name": "Python 3",
   "language": "python",
   "name": "python3"
  },
  "language_info": {
   "codemirror_mode": {
    "name": "ipython",
    "version": 3
   },
   "file_extension": ".py",
   "mimetype": "text/x-python",
   "name": "python",
   "nbconvert_exporter": "python",
   "pygments_lexer": "ipython3",
   "version": "3.9.2"
  }
 },
 "nbformat": 4,
 "nbformat_minor": 5
}
