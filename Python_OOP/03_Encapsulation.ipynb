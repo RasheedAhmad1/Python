{
 "cells": [
  {
   "cell_type": "markdown",
   "id": "bottom-cannon",
   "metadata": {},
   "source": [
    "# Encapsulation\n",
    "Encapsulation is a method of making a complex system easier to handle for end users. The user need not worry about internal details and complexities of the system. Encapsulation is a process of wrapping the data and the code, that operate on the data into a single entity. You can assume it as a protective wrapper that stops random access of code defined outside that wrapper."
   ]
  },
  {
   "cell_type": "markdown",
   "id": "corporate-classroom",
   "metadata": {},
   "source": [
    "You can declare the methods or the attributes protected by using a single underscore ( _ ) before their names. Such as- self._name or def _method( ); Both of these lines tell that the attribute and method are protected and should not be used outside the access of the class and sub-classes but can be accessed by class methods and objects."
   ]
  },
  {
   "cell_type": "markdown",
   "id": "exclusive-coral",
   "metadata": {},
   "source": [
    "Though Python uses ‘ _ ‘ just as a coding convention, it tells that you should use these attributes/methods within the scope of the class. But you can still access the variables and methods which are defined as protected, as usual.\n",
    "\n",
    "Now for actually preventing the access of attributes/methods from outside the scope of a class, you can use “private members“. In order to declare the attributes/method as private members, use double underscore ( __ ) in the prefix. Such as – self.__name or def __method(); Both of these lines tell that the attribute and method are private and access is not possible from outside the class."
   ]
  },
  {
   "cell_type": "code",
   "execution_count": 18,
   "id": "similar-manor",
   "metadata": {},
   "outputs": [],
   "source": [
    "class Car(object):\n",
    "    \n",
    "    def __init__(self, name, mileage):\n",
    "        self._name = name # protected attribute\n",
    "        self.mileage = mileage\n",
    "        \n",
    "    def description(self):\n",
    "        return f'The {self._name} car gives the mileage of {self.mileage} km/l'\n",
    "    "
   ]
  },
  {
   "cell_type": "code",
   "execution_count": 19,
   "id": "mature-investigation",
   "metadata": {},
   "outputs": [],
   "source": [
    "obj = Car('Audi', 40.50)"
   ]
  },
  {
   "cell_type": "code",
   "execution_count": 21,
   "id": "excited-omega",
   "metadata": {},
   "outputs": [
    {
     "name": "stdout",
     "output_type": "stream",
     "text": [
      "The Audi car gives the mileage of 40.5 km/l\n"
     ]
    }
   ],
   "source": [
    "# Accessing protected attribute via class method\n",
    "print(obj.description())"
   ]
  },
  {
   "cell_type": "code",
   "execution_count": 22,
   "id": "supreme-pitch",
   "metadata": {},
   "outputs": [
    {
     "name": "stdout",
     "output_type": "stream",
     "text": [
      "Audi\n",
      "40.5\n"
     ]
    }
   ],
   "source": [
    "#accessing protected variable directly from outside\n",
    "print(obj._name)\n",
    "print(obj.mileage)"
   ]
  },
  {
   "cell_type": "markdown",
   "id": "amber-candidate",
   "metadata": {},
   "source": [
    "Notice how we accessed the protected variable without any error. It is clear that access to the variable is still public. Let us see how encapsulation works-"
   ]
  },
  {
   "cell_type": "code",
   "execution_count": 23,
   "id": "operating-indonesia",
   "metadata": {},
   "outputs": [],
   "source": [
    "class car:\n",
    "\n",
    "    def __init__(self, name, mileage):\n",
    "        self._name = name       # Protected attribute\n",
    "        self.mileage = mileage \n",
    "\n",
    "    def description(self):                \n",
    "        return f\"The {self._name} car gives the mileage of {self.mileage}km/l\""
   ]
  },
  {
   "cell_type": "code",
   "execution_count": 24,
   "id": "controlling-february",
   "metadata": {},
   "outputs": [
    {
     "name": "stdout",
     "output_type": "stream",
     "text": [
      "The BMW 7-series car gives the mileage of 39.53 km/l\n",
      "39.53\n"
     ]
    },
    {
     "ename": "AttributeError",
     "evalue": "'Car' object has no attribute '__name'",
     "output_type": "error",
     "traceback": [
      "\u001b[1;31m---------------------------------------------------------------------------\u001b[0m",
      "\u001b[1;31mAttributeError\u001b[0m                            Traceback (most recent call last)",
      "\u001b[1;32m<ipython-input-24-6b93afc7f62c>\u001b[0m in \u001b[0;36m<module>\u001b[1;34m\u001b[0m\n\u001b[0;32m      6\u001b[0m \u001b[1;31m#accessing private variable directly from outside\u001b[0m\u001b[1;33m\u001b[0m\u001b[1;33m\u001b[0m\u001b[1;33m\u001b[0m\u001b[0m\n\u001b[0;32m      7\u001b[0m \u001b[0mprint\u001b[0m\u001b[1;33m(\u001b[0m\u001b[0mobj\u001b[0m\u001b[1;33m.\u001b[0m\u001b[0mmileage\u001b[0m\u001b[1;33m)\u001b[0m\u001b[1;33m\u001b[0m\u001b[1;33m\u001b[0m\u001b[0m\n\u001b[1;32m----> 8\u001b[1;33m \u001b[0mprint\u001b[0m\u001b[1;33m(\u001b[0m\u001b[0mobj\u001b[0m\u001b[1;33m.\u001b[0m\u001b[0m__name\u001b[0m\u001b[1;33m)\u001b[0m\u001b[1;33m\u001b[0m\u001b[1;33m\u001b[0m\u001b[0m\n\u001b[0m",
      "\u001b[1;31mAttributeError\u001b[0m: 'Car' object has no attribute '__name'"
     ]
    }
   ],
   "source": [
    "obj = Car(\"BMW 7-series\",39.53)\n",
    "\n",
    "#accessing private variable via class method \n",
    "print(obj.description())\n",
    "\n",
    "#accessing private variable directly from outside\n",
    "print(obj.mileage)\n",
    "print(obj.__name)"
   ]
  },
  {
   "cell_type": "markdown",
   "id": "convinced-offering",
   "metadata": {},
   "source": [
    "When we tried accessing the private variable using the description() method, we encountered no error. But when we tried accessing the private variable directly outside the class, then Python gave us an error stating: car object has no attribute ‘\\_\\_name’."
   ]
  },
  {
   "cell_type": "markdown",
   "id": "sudden-notification",
   "metadata": {},
   "source": [
    "You can still access this attribute directly using its mangled name. **Name mangling** is a mechanism we use for accessing the class members from outside. The Python interpreter rewrites any identifier with “\\_\\_var” as “\\_ClassName\\_\\_var”. And using this you can access the class member from outside as well."
   ]
  },
  {
   "cell_type": "code",
   "execution_count": 25,
   "id": "metric-mystery",
   "metadata": {},
   "outputs": [],
   "source": [
    "class Car:\n",
    "\n",
    "    def __init__(self, name, mileage):\n",
    "        self.__name = name              # Private attribute        \n",
    "        self.mileage = mileage \n",
    "\n",
    "    def description(self):                \n",
    "        return f\"The {self.__name} car gives the mileage of {self.mileage} km/l\""
   ]
  },
  {
   "cell_type": "code",
   "execution_count": 27,
   "id": "comic-youth",
   "metadata": {},
   "outputs": [
    {
     "name": "stdout",
     "output_type": "stream",
     "text": [
      "The BMW 7-series car gives the mileage of 39.53km/l\n",
      "39.53\n",
      "BMW 7-series\n"
     ]
    }
   ],
   "source": [
    "obj = Car(\"BMW 7-series\",39.53)\n",
    "\n",
    "#accessing private variable via class method \n",
    "print(obj.description())\n",
    "\n",
    "#accessing private variable directly from outside\n",
    "print(obj.mileage)\n",
    "print(obj._Car__name)      # Mangled name"
   ]
  },
  {
   "cell_type": "markdown",
   "id": "complex-system",
   "metadata": {},
   "source": [
    "Note that the mangling rule’s design mostly avoids accidents. But it is still possible to access or modify a variable that is considered private. This can even be useful in special circumstances, such as in the debugger."
   ]
  },
  {
   "cell_type": "code",
   "execution_count": 2,
   "id": "passing-dominant",
   "metadata": {},
   "outputs": [
    {
     "name": "stdout",
     "output_type": "stream",
     "text": [
      "Calling protected member of parent class: \n",
      "2\n"
     ]
    }
   ],
   "source": [
    "# Python program to demonstrate protected members\n",
    " \n",
    "# Creating a parent class\n",
    "class Parent:\n",
    "    \n",
    "    def __init__(self):\n",
    "         \n",
    "        # Protected attribut\n",
    "        self._a = 2\n",
    "        \n",
    "# Creating a child class   \n",
    "class Child(Parent):\n",
    "    \n",
    "    def __init__(self):\n",
    "         \n",
    "        # Calling constructor of parent class\n",
    "        Parent.__init__(self)\n",
    "        print(\"Calling protected member of parent class: \")\n",
    "        print(self._a)\n",
    "\n",
    "obj1 = Parent()\n",
    "         \n",
    "obj2 = Child()\n"
   ]
  },
  {
   "cell_type": "code",
   "execution_count": 3,
   "id": "diverse-economics",
   "metadata": {},
   "outputs": [
    {
     "ename": "AttributeError",
     "evalue": "'Child' object has no attribute 'a'",
     "output_type": "error",
     "traceback": [
      "\u001b[1;31m---------------------------------------------------------------------------\u001b[0m",
      "\u001b[1;31mAttributeError\u001b[0m                            Traceback (most recent call last)",
      "\u001b[1;32m<ipython-input-3-4117514f0aaa>\u001b[0m in \u001b[0;36m<module>\u001b[1;34m\u001b[0m\n\u001b[0;32m      1\u001b[0m \u001b[1;31m# Calling protected member outside class will result in AttributeError\u001b[0m\u001b[1;33m\u001b[0m\u001b[1;33m\u001b[0m\u001b[1;33m\u001b[0m\u001b[0m\n\u001b[1;32m----> 2\u001b[1;33m \u001b[0mprint\u001b[0m\u001b[1;33m(\u001b[0m\u001b[0mobj2\u001b[0m\u001b[1;33m.\u001b[0m\u001b[0ma\u001b[0m\u001b[1;33m)\u001b[0m\u001b[1;33m\u001b[0m\u001b[1;33m\u001b[0m\u001b[0m\n\u001b[0m",
      "\u001b[1;31mAttributeError\u001b[0m: 'Child' object has no attribute 'a'"
     ]
    }
   ],
   "source": [
    "# Calling protected member outside class will result in AttributeError\n",
    "print(obj2.a)"
   ]
  },
  {
   "cell_type": "code",
   "execution_count": null,
   "id": "hollow-instruction",
   "metadata": {},
   "outputs": [],
   "source": []
  }
 ],
 "metadata": {
  "kernelspec": {
   "display_name": "Python 3",
   "language": "python",
   "name": "python3"
  },
  "language_info": {
   "codemirror_mode": {
    "name": "ipython",
    "version": 3
   },
   "file_extension": ".py",
   "mimetype": "text/x-python",
   "name": "python",
   "nbconvert_exporter": "python",
   "pygments_lexer": "ipython3",
   "version": "3.9.2"
  }
 },
 "nbformat": 4,
 "nbformat_minor": 5
}
