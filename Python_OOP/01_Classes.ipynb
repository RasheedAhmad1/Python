{
 "cells": [
  {
   "cell_type": "markdown",
   "id": "ambient-mineral",
   "metadata": {},
   "source": [
    "# Object-Oriented Programming\n",
    "Object-Oriented Programming(OOP), is all about creating “objects”. An object is a group of interrelated variables and functions. These variables are often referred to as properties of the object and functions are referred to as the behavior of the objects. These objects provide a better and clear structure for the program.\n",
    "\n",
    "Example- If we consider a dog as an object then its properties would be- his name, weight, color, and breed etc. And his behavior/function would be walking, barking, and playing, etc."
   ]
  },
  {
   "cell_type": "markdown",
   "id": "expired-seeker",
   "metadata": {},
   "source": [
    "## What is a Class?\n",
    "A class is a collection of objects. Unlike the primitive data structures, classes are data structures that the user defines. They make the code more manageable."
   ]
  },
  {
   "cell_type": "code",
   "execution_count": 21,
   "id": "central-spectrum",
   "metadata": {},
   "outputs": [],
   "source": [
    "class Dog:\n",
    "    pass"
   ]
  },
  {
   "cell_type": "markdown",
   "id": "hungarian-worth",
   "metadata": {},
   "source": [
    "## Objects and object instantiation\n",
    "When we define a class only the description or a blueprint of the object is created. There is no memory allocation until we create its object. The objector instance contains real data or information.\n",
    "\n",
    "Instantiation is nothing but creating a new object/instance of a class. Let’s create the object of the above class we defined-"
   ]
  },
  {
   "cell_type": "code",
   "execution_count": null,
   "id": "identified-booking",
   "metadata": {},
   "outputs": [],
   "source": [
    "jack = Dog()\n",
    "print(jack)"
   ]
  },
  {
   "cell_type": "markdown",
   "id": "moving-entertainment",
   "metadata": {},
   "source": [
    "## An object has two characteristics:\n",
    "* properties or attributes\n",
    "* behaviors or methods\n",
    "### attributes\n",
    "The attributes are data members (class variables and instance variables) and are accessed via dot notation\n",
    "#### Class and Instance variables (or attributes)\n",
    "* Class attributes refer to the attributes outside the constructor method/are variables of a class that are shared between all of its instances\n",
    "* instance attributes are owned by one specific instance of the class only, and are not shared between instances.\n",
    "### behavior\n",
    "\n",
    "#### Class and Instance methods (or behaviors)\n",
    "* Class behaviors/methods are also called dunder methods and are built-in. These methods are automatically triggered by the interpreter as a program executes.\n",
    "* Instance behavors/methods are user defined methods in a class"
   ]
  },
  {
   "cell_type": "markdown",
   "id": "congressional-forum",
   "metadata": {},
   "source": [
    "### Class methods\n",
    "Class methods are called *dunder* methods can be used to emulate behaviour of built-in types to user defined objects and is core Python feature that should be used as needed.\n",
    "* *dunder* methods in Python are the special methods that start and end with the double underscores. *dunder* here means “Double Under (Underscores)”. They are also called magic methods.\n",
    "* Let’s look at various “dunder” methods to have the better understanding of various features Python provides."
   ]
  },
  {
   "cell_type": "markdown",
   "id": "graduate-burst",
   "metadata": {},
   "source": [
    "### Object Creation and Destruction \n",
    "* The __new__() is a class method that is called to create an instance. <br>\n",
    "* The __init__() method initializes the attributes of an object and is called immediately after an object has been newly created. \n",
    "* The __del__() method is invoked when an object is about to be destroyed."
   ]
  },
  {
   "cell_type": "markdown",
   "id": "organizational-privacy",
   "metadata": {},
   "source": [
    "The __new__() and __init__() methods are used together to create and initialize new instances. When an object is created by calling A(args), it is translated into the following steps:\n",
    "x = A._ _new_ _(A,args)\n",
    "is isinstance(x,A): x._ _init_ _(args)"
   ]
  },
  {
   "cell_type": "markdown",
   "id": "constant-functionality",
   "metadata": {},
   "source": [
    "### Class constructor\n",
    "The job of the class constructor is to assign the values to the data members of the class when an object of the class is created.\n",
    "There can be various properties of a dog such as its name, age, color,weight etc. We’ll choose only a few of them."
   ]
  },
  {
   "cell_type": "code",
   "execution_count": null,
   "id": "abstract-central",
   "metadata": {},
   "outputs": [],
   "source": [
    "class Dog:\n",
    "    species = 'German Shepherd'\n",
    "    def __init__(self, name, age):\n",
    "        self.name = name\n",
    "        self.age = age\n",
    "        "
   ]
  },
  {
   "cell_type": "markdown",
   "id": "plastic-centre",
   "metadata": {},
   "source": [
    "This __init__() method is called the constructor method and is automatically called when an object of the class is created.<br>\n",
    "&nbsp;I have one space<br>\n",
    "&ensp;I have two spaces <br>\n",
    "&emsp;I have four spaces"
   ]
  },
  {
   "cell_type": "markdown",
   "id": "intelligent-college",
   "metadata": {},
   "source": [
    "### Object Representation:\n",
    "1. The __format__(self, format_spec) method creates a formatted representation\n",
    "2. The __str__(self) method creates a string representation of an object \n",
    "3. The __repr__(self) method creates a simple string representation"
   ]
  },
  {
   "cell_type": "markdown",
   "id": "logical-contract",
   "metadata": {},
   "source": [
    ".$\\color{red}{\\text{Note:}}$ For more details on *dunder* methods [visit the article](https://www.informit.com/articles/article.aspx?p=1357182&seqNum=9)"
   ]
  },
  {
   "cell_type": "markdown",
   "id": "exclusive-jason",
   "metadata": {},
   "source": [
    "### Instance methods\n",
    "So far we’ve added the properties of the Dog. Now it’s time to add some behaviors. Methods are the functions that we use to describe the behavior of the objects. They are also defined inside a class but are user defined.<br>\n",
    "Just like .__init__(), an instance method’s first parameter is always self."
   ]
  },
  {
   "cell_type": "code",
   "execution_count": 27,
   "id": "compound-bulgarian",
   "metadata": {},
   "outputs": [],
   "source": [
    "class Dog(object):\n",
    "    \n",
    "    species = 'German Shepherd'\n",
    "    \n",
    "    def __init__(self, name, age):\n",
    "        self.name = name\n",
    "        self.age = age\n",
    "\n",
    "    # Instance method\n",
    "    def description(self):\n",
    "        return f\"{self.name} is {self.age} years old of specie {self.species}\"\n",
    "\n",
    "    # Another instance method\n",
    "    def speak(self, sound):\n",
    "        return f\"{self.name} says {sound}\""
   ]
  },
  {
   "cell_type": "markdown",
   "id": "leading-financing",
   "metadata": {},
   "source": [
    "This Dog class has two instance methods:\n",
    "* description() returns a string displaying the name and age of the dog.\n",
    "* speak() has one parameter called sound and returns a string containing the dog’s name and the sound the dog makes."
   ]
  },
  {
   "cell_type": "code",
   "execution_count": 28,
   "id": "boring-sunrise",
   "metadata": {},
   "outputs": [
    {
     "data": {
      "text/plain": [
       "'Jack is 4 years old of specie German Shepherd'"
      ]
     },
     "execution_count": 28,
     "metadata": {},
     "output_type": "execute_result"
    }
   ],
   "source": [
    "Jack = Dog('Jack', 4)\n",
    "Jack.description()"
   ]
  },
  {
   "cell_type": "code",
   "execution_count": 29,
   "id": "varied-occupation",
   "metadata": {},
   "outputs": [
    {
     "data": {
      "text/plain": [
       "'Jack says woof woof'"
      ]
     },
     "execution_count": 29,
     "metadata": {},
     "output_type": "execute_result"
    }
   ],
   "source": [
    "Jack.speak('woof woof')"
   ]
  },
  {
   "cell_type": "markdown",
   "id": "demonstrated-simulation",
   "metadata": {},
   "source": [
    "Note: In the above Dog class, .description() returns a string containing information about the Dog instance miles. When writing your own classes, it’s a good idea to have a method that returns a string containing useful information about an instance of the class. However, .description() isn’t the most Pythonic way of doing this."
   ]
  },
  {
   "cell_type": "markdown",
   "id": "brilliant-safety",
   "metadata": {},
   "source": [
    "Let’s see what happens when you print() the 'Jack' object:"
   ]
  },
  {
   "cell_type": "code",
   "execution_count": 12,
   "id": "accompanied-fountain",
   "metadata": {},
   "outputs": [
    {
     "name": "stdout",
     "output_type": "stream",
     "text": [
      "<__main__.Dog object at 0x000001C0FE910B80>\n"
     ]
    }
   ],
   "source": [
    "print(Jack)"
   ]
  },
  {
   "cell_type": "markdown",
   "id": "fabulous-huntington",
   "metadata": {},
   "source": [
    "When you print(Jack), you get a cryptic message indicates that 'Jack' is a Dog object at the memory address 0x00aeff70. This message isn’t very helpful. You can change what gets printed by defining a special instance method called .__str__()."
   ]
  },
  {
   "cell_type": "code",
   "execution_count": 24,
   "id": "detailed-florence",
   "metadata": {},
   "outputs": [],
   "source": [
    "class Dog(object):\n",
    "    \n",
    "    species = 'German Shepherd'\n",
    "    \n",
    "    def __init__(self, name, age):\n",
    "        self.name = name\n",
    "        self.age = age\n",
    "\n",
    "    # Replace .description() with __str__()\n",
    "    def __str__(self):\n",
    "        return f\"{self.name} is {self.age} years old\"\n",
    "\n",
    "    # Instance method\n",
    "    def speak(self, sound):\n",
    "        return f\"{self.name} says {sound}\""
   ]
  },
  {
   "cell_type": "code",
   "execution_count": 25,
   "id": "fitting-connectivity",
   "metadata": {},
   "outputs": [],
   "source": [
    "Jack = Dog('Jack', 4)"
   ]
  },
  {
   "cell_type": "code",
   "execution_count": 26,
   "id": "referenced-robin",
   "metadata": {},
   "outputs": [
    {
     "name": "stdout",
     "output_type": "stream",
     "text": [
      "Jack is 4 years old\n"
     ]
    }
   ],
   "source": [
    "print(Jack)"
   ]
  },
  {
   "cell_type": "markdown",
   "id": "architectural-boutique",
   "metadata": {},
   "source": [
    "## self keyword\n",
    "The self keyword is used to represent an instance (object) of the given class. ... However, since the class is just a blueprint, self allows access to the attributes and methods of each object in python. This allows each object to have its own attributes and methods.\n",
    "\n",
    "### Explanation:\n",
    "Let's say you have a class ClassA which contains a method methodA defined as:\n",
    "\n",
    "```\n",
    "class ClassA:\n",
    "    def methodA(self, arg1, arg2):\n",
    "        pass\n",
    "```\n",
    "        \n",
    "let say ObjectA is an instance of the class.\n",
    "\n",
    "Now when ObjectA.methodA(arg1, arg2) is called, python internally converts it as:\n",
    "\n",
    "ClassA.methodA(ObjectA, arg1, arg2)\n",
    "\n",
    "The self variable refers to the object itself."
   ]
  },
  {
   "cell_type": "markdown",
   "id": "worst-basic",
   "metadata": {},
   "source": [
    "## Inheritance\n",
    "Inheritance is a way of creating a new class for using details of an existing class without modifying it. The newly formed class is a derived class (or child class). Similarly, the existing class is a base class (or parent class)"
   ]
  },
  {
   "cell_type": "code",
   "execution_count": 38,
   "id": "blond-plant",
   "metadata": {},
   "outputs": [
    {
     "name": "stdout",
     "output_type": "stream",
     "text": [
      "Hi i am Jack\n"
     ]
    }
   ],
   "source": [
    "class Cat(object):\n",
    "    def __init__(self, a):\n",
    "        self.name = a # jack.name = a\n",
    "        \n",
    "    def speak(self):\n",
    "        print(f'Hi i am {self.name}')\n",
    "    \n",
    "jack = Cat('Jack')\n",
    "jack.speak()"
   ]
  },
  {
   "cell_type": "code",
   "execution_count": null,
   "id": "furnished-league",
   "metadata": {},
   "outputs": [],
   "source": []
  }
 ],
 "metadata": {
  "kernelspec": {
   "display_name": "Python 3",
   "language": "python",
   "name": "python3"
  },
  "language_info": {
   "codemirror_mode": {
    "name": "ipython",
    "version": 3
   },
   "file_extension": ".py",
   "mimetype": "text/x-python",
   "name": "python",
   "nbconvert_exporter": "python",
   "pygments_lexer": "ipython3",
   "version": "3.9.2"
  }
 },
 "nbformat": 4,
 "nbformat_minor": 5
}
