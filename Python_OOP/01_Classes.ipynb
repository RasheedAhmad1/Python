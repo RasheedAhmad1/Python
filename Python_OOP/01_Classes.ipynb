{
 "cells": [
  {
   "cell_type": "markdown",
   "id": "ambient-mineral",
   "metadata": {},
   "source": [
    "# Object-Oriented Programming\n",
    "Object-Oriented Programming(OOP), is all about creating “objects”. An object is a group of interrelated variables and functions. These variables are often referred to as properties of the object and functions are referred to as the behavior of the objects. These objects provide a better and clear structure for the program.\n",
    "\n",
    "Example- If we consider a dog as an object then its properties would be- his color, his breed, his name, his weight, etc. And his behavior/function would be walking, barking, playing, etc."
   ]
  },
  {
   "cell_type": "markdown",
   "id": "expired-seeker",
   "metadata": {},
   "source": [
    "## What is a Class?\n",
    "A class is a collection of objects. Unlike the primitive data structures, classes are data structures that the user defines. They make the code more manageable.\n",
    "\n",
    "class class_name:<br>\n",
    "    class body"
   ]
  },
  {
   "cell_type": "code",
   "execution_count": 1,
   "id": "central-spectrum",
   "metadata": {},
   "outputs": [],
   "source": [
    "class Dog():\n",
    "    pass"
   ]
  },
  {
   "cell_type": "markdown",
   "id": "hungarian-worth",
   "metadata": {},
   "source": [
    "## Objects and object instantiation\n",
    "When we define a class only the description or a blueprint of the object is created. There is no memory allocation until we create its object. The objector instance contains real data or information.\n",
    "\n",
    "Instantiation is nothing but creating a new object/instance of a class. Let’s create the object of the above class we defined-"
   ]
  },
  {
   "cell_type": "code",
   "execution_count": 2,
   "id": "identified-booking",
   "metadata": {},
   "outputs": [
    {
     "name": "stdout",
     "output_type": "stream",
     "text": [
      "<__main__.Dog object at 0x00000157E3991AF0>\n"
     ]
    }
   ],
   "source": [
    "jack = Dog()\n",
    "print(jack)"
   ]
  },
  {
   "cell_type": "markdown",
   "id": "following-border",
   "metadata": {},
   "source": [
    "## Class constructor\n",
    "The job of the class constructor is to assign the values to the data members of the class when an object of the class is created.\n",
    "There can be various properties of a dog such as its name, age, color,weight etc. We’ll choose only a few of them."
   ]
  },
  {
   "cell_type": "code",
   "execution_count": 3,
   "id": "monetary-wheel",
   "metadata": {},
   "outputs": [],
   "source": [
    "class Dog():\n",
    "    species = 'German Shepherd'\n",
    "    def __init__(self, name, age):\n",
    "        self.name = name\n",
    "        self.age = age\n",
    "        "
   ]
  },
  {
   "cell_type": "markdown",
   "id": "informal-tourist",
   "metadata": {},
   "source": [
    "This __init__() method is called the constructor method and is automatically called when an object of the class is created."
   ]
  },
  {
   "cell_type": "markdown",
   "id": "eligible-particular",
   "metadata": {},
   "source": [
    "## Instance attributes and Class attributes\n",
    "Instance attributes refer to the attributes inside the constructor method, whereas Class attributes refer to the attributes outside the constructor method\n",
    "For example, self.name, self.age and species respectivily"
   ]
  },
  {
   "cell_type": "code",
   "execution_count": null,
   "id": "fixed-retailer",
   "metadata": {},
   "outputs": [],
   "source": []
  }
 ],
 "metadata": {
  "kernelspec": {
   "display_name": "Python 3",
   "language": "python",
   "name": "python3"
  },
  "language_info": {
   "codemirror_mode": {
    "name": "ipython",
    "version": 3
   },
   "file_extension": ".py",
   "mimetype": "text/x-python",
   "name": "python",
   "nbconvert_exporter": "python",
   "pygments_lexer": "ipython3",
   "version": "3.9.2"
  }
 },
 "nbformat": 4,
 "nbformat_minor": 5
}
