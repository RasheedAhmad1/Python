{
 "cells": [
  {
   "cell_type": "markdown",
   "id": "verbal-vinyl",
   "metadata": {},
   "source": [
    "## Inheritance\n",
    "Inheritance is a way of creating a new class for using details of an existing class without modifying it. The newly formed class is a derived class (or child class). Similarly, the existing class is a base class (or parent class)"
   ]
  },
  {
   "cell_type": "code",
   "execution_count": 14,
   "id": "younger-turner",
   "metadata": {},
   "outputs": [
    {
     "name": "stdout",
     "output_type": "stream",
     "text": [
      "Hi my name is Jack and i am 4 years old and belong to class mamals\n",
      "Hi my name is Tina and i am 3 years old and belong to class mamals\n"
     ]
    }
   ],
   "source": [
    "# Parent Class\n",
    "class Animal(object):\n",
    "    \n",
    "    # Class attribute (Static), available for all methods inside the class \n",
    "    class_ = 'mamals'\n",
    "    \n",
    "    def __init__(self, name, age):\n",
    "        self.name = name # Class attributes (Dynamic)\n",
    "        self.age = age\n",
    "        \n",
    "    def description(self):\n",
    "        print(f'Hi my name is {self.name} and i am {self.age} years old and belong to class {self.class_}')\n",
    "        #OR print('Hi my name is {} and i am {} years old'.format(self.name, self.age))\n",
    "        #OR print('Hi my name is {a} and i am {b} years old'.format(a=self.name, b=self.age))\n",
    "        \n",
    "# Child Class\n",
    "class Cat(Animal):\n",
    "    \n",
    "    # Initialization of 'Cat' which is unique to 'Cat' b/c it has 'speak' attribute\n",
    "    def __init__(self, name, age):\n",
    "        # Called the initialization of 'Dog' which automatically adds up self.name and self.age\n",
    "        super().__init__(name, age) # Reference a method on a parent class using super()\n",
    "        # Animal.__init__(self, name, age)\n",
    "        \n",
    "# Instantiate 'Animal' object        \n",
    "dog = Animal('Jack', 4)\n",
    "dog.description()\n",
    "\n",
    "# Instantiate 'Cat' object\n",
    "Tina = Cat('Tina', 3)\n",
    "Tina.description()"
   ]
  },
  {
   "cell_type": "markdown",
   "id": "hybrid-vulnerability",
   "metadata": {},
   "source": [
    "## Overloading or Overriding\n",
    "To override or overload the methods or attributes of the child class"
   ]
  },
  {
   "cell_type": "code",
   "execution_count": 17,
   "id": "thousand-petroleum",
   "metadata": {},
   "outputs": [
    {
     "name": "stdout",
     "output_type": "stream",
     "text": [
      "Hi i am jany, my age is 3 and belongs to class Mamals\n",
      "jany say Meow\n"
     ]
    }
   ],
   "source": [
    "class Animal(object):\n",
    "    \n",
    "    def __init__(self, name, age, class_):\n",
    "        self.name = name\n",
    "        self.age = age\n",
    "        self.class_ = class_\n",
    "        \n",
    "    def description(self):\n",
    "        print(f'Hi i am {self.name}, my age is {self.age} and belongs to class {self.class_}')\n",
    "        \n",
    "    def talk(self):\n",
    "        print('Animal say Something')\n",
    "       \n",
    "         \n",
    "class Cat(Animal):\n",
    "    def __init__(self, name, age, class_):\n",
    "        super().__init__(name, age, class_)\n",
    "        # Attribute overloading\n",
    "        self.name = 'jany'\n",
    "        \n",
    "    # Method overloading    \n",
    "    def talk(self):\n",
    "        print(f'{self.name} say Meow')\n",
    "\n",
    "\n",
    "Tina = Cat('Tina', 3, 'Mamals')\n",
    "Tina.description()\n",
    "Tina.talk()"
   ]
  },
  {
   "cell_type": "markdown",
   "id": "awful-slovak",
   "metadata": {},
   "source": [
    "## Extention\n",
    "* To extend the functionality of the child class\n",
    "* 'Cat' inherits attributes like name, age, class_ and properties like description(), talk() from the parents class. Now if the cats are trained and learn to talk like humans. In this case 'Cat' class extended his attributes because they’ve added an attribute that 'Animal' class don’t have. 'Cat' class can also extend properties like run_fast() in the below example, this is called extention in attributes and properties"
   ]
  },
  {
   "cell_type": "code",
   "execution_count": 18,
   "id": "dutch-chick",
   "metadata": {},
   "outputs": [
    {
     "name": "stdout",
     "output_type": "stream",
     "text": [
      "Hi i am Tina, my age is 3 and belongs to class Mamals\n",
      "Tina say Meow and can speak aalo as well\n",
      "I can run fast from other animals\n"
     ]
    }
   ],
   "source": [
    "class Animal(object):\n",
    "    \n",
    "    def __init__(self, name, age, class_):\n",
    "        self.name = name\n",
    "        self.age = age\n",
    "        self.class_ = class_\n",
    "        \n",
    "    def description(self):\n",
    "        print(f'Hi i am {self.name}, my age is {self.age} and belongs to class {self.class_}')\n",
    "        \n",
    "    def talk(self):\n",
    "        print('Animals say Something')\n",
    "       \n",
    "         \n",
    "class Cat(Animal):\n",
    "    def __init__(self, name, age, class_, speak):\n",
    "        super().__init__(name, age, class_)\n",
    "        # Attribute extention\n",
    "        self.speak = speak\n",
    "        \n",
    "    # Method overloading    \n",
    "    def talk(self):\n",
    "        print(f'{self.name} say Meow and can speak {self.speak} as well')\n",
    "        \n",
    "    # Method extention\n",
    "    def run_fast(self):\n",
    "        print('I can run fast from other animals')\n",
    "\n",
    "\n",
    "Tina = Cat('Tina', 3, 'Mamals', 'aalo')\n",
    "Tina.description()\n",
    "Tina.talk()\n",
    "Tina.run_fast()"
   ]
  },
  {
   "cell_type": "markdown",
   "id": "liberal-secondary",
   "metadata": {},
   "source": [
    "## \\_\\_call(self)\\_\\_ method\n",
    "* The \\_\\_call\\_\\_() method is executed each time you try to call an instance of the class\n",
    "* The \\_\\_call\\_\\_() built-in method enables Python programmers to write classes where the instances behave like functions and can be called like a function."
   ]
  },
  {
   "cell_type": "code",
   "execution_count": 19,
   "id": "moral-karaoke",
   "metadata": {},
   "outputs": [
    {
     "name": "stdout",
     "output_type": "stream",
     "text": [
      "From init ... \n"
     ]
    }
   ],
   "source": [
    "# Example 1:\n",
    "lass A:\n",
    "\n",
    "    \n",
    "    \n",
    "    \n",
    "    \n",
    "    \n",
    "    \n",
    "    \n",
    "    \n",
    "    \n",
    "    \n",
    "    \n",
    "    \n",
    "    \n",
    "    \n",
    "    def __init__(self):\n",
    "        print(\"From init ... \")\n",
    "        \n",
    "    def __call__(sesf):\n",
    "        print(\"From call ... \")\n",
    "        \n",
    "a = A()\n"
   ]
  },
  {
   "cell_type": "code",
   "execution_count": 21,
   "id": "double-fitness",
   "metadata": {},
   "outputs": [
    {
     "name": "stdout",
     "output_type": "stream",
     "text": [
      "From call ... \n"
     ]
    }
   ],
   "source": [
    "# Instance called like a normal function calling\n",
    "a()"
   ]
  },
  {
   "cell_type": "markdown",
   "id": "endangered-talent",
   "metadata": {},
   "source": [
    "#### When the instance is called as a function:\n",
    "Python convert it as:<br>\n",
    "&emsp; object() --> object.\\_\\_call\\_\\_()<br>\n",
    "&emsp; *object() is shorthand for object.\\_\\_call\\_\\_()*"
   ]
  },
  {
   "cell_type": "markdown",
   "id": "superior-cardiff",
   "metadata": {},
   "source": [
    "#### Similar like normal function calling \n",
    "&emsp; Python convert normal function call as: x(arg1, arg2) --> x.\\_\\_call\\_\\_(arg1, arg2)<br>\n",
    "&emsp; *if this method is defined, x(arg1, arg2, ...) is a shorthand for x.\\_\\_call\\_\\_(arg1, arg2, ...).*"
   ]
  },
  {
   "cell_type": "code",
   "execution_count": 22,
   "id": "southwest-electric",
   "metadata": {},
   "outputs": [
    {
     "name": "stdout",
     "output_type": "stream",
     "text": [
      "Instance Created\n",
      "200\n"
     ]
    }
   ],
   "source": [
    "# Example 2:\n",
    "\n",
    "class Product:\n",
    "    def __init__(self):\n",
    "        print(\"Instance Created\")\n",
    "  \n",
    "    # Defining __call__ method\n",
    "    def __call__(self, a, b):\n",
    "        print(a * b)\n",
    "\n",
    "        \n",
    "# Instance created\n",
    "ans = Product()\n",
    "  \n",
    "# __call__ method will be called\n",
    "ans(10, 20)"
   ]
  },
  {
   "cell_type": "code",
   "execution_count": null,
   "id": "tropical-indie",
   "metadata": {},
   "outputs": [],
   "source": []
  }
 ],
 "metadata": {
  "kernelspec": {
   "display_name": "Python 3",
   "language": "python",
   "name": "python3"
  },
  "language_info": {
   "codemirror_mode": {
    "name": "ipython",
    "version": 3
   },
   "file_extension": ".py",
   "mimetype": "text/x-python",
   "name": "python",
   "nbconvert_exporter": "python",
   "pygments_lexer": "ipython3",
   "version": "3.9.2"
  }
 },
 "nbformat": 4,
 "nbformat_minor": 5
}
