{
 "cells": [
  {
   "cell_type": "markdown",
   "id": "ambient-mineral",
   "metadata": {},
   "source": [
    "# Object-Oriented Programming\n",
    "Object-Oriented Programming(OOP), is all about creating “objects”. An object is a group of interrelated variables and functions. These variables are often referred to as properties of the object and functions are referred to as the behaviors of the object. These objects provide a better and clear structure for the program.\n",
    "\n",
    "Example- If we consider a dog as an object then its properties would be- his name, weight, color, and breed etc. And his behaviors/functions would be walking, barking, and playing, etc."
   ]
  },
  {
   "cell_type": "markdown",
   "id": "expired-seeker",
   "metadata": {},
   "source": [
    "## What is a Class?\n",
    "A class is a collection of objects. Unlike the primitive data structures, classes are data structures that the user defines. They make the code more manageable."
   ]
  },
  {
   "cell_type": "code",
   "execution_count": 44,
   "id": "central-spectrum",
   "metadata": {},
   "outputs": [],
   "source": [
    "class Dog:\n",
    "    pass"
   ]
  },
  {
   "cell_type": "markdown",
   "id": "hungarian-worth",
   "metadata": {},
   "source": [
    "## Objects and object instantiation\n",
    "When we define a class only the description or a blueprint of the object is created. There is no memory allocation until we create its object. The objector instance contains real data or information.\n",
    "\n",
    "Instantiation is nothing but creating a new object/instance of a class. Let’s create the object of the above class we defined-"
   ]
  },
  {
   "cell_type": "code",
   "execution_count": 45,
   "id": "identified-booking",
   "metadata": {},
   "outputs": [
    {
     "name": "stdout",
     "output_type": "stream",
     "text": [
      "<__main__.Dog object at 0x00000200060E9B50>\n"
     ]
    }
   ],
   "source": [
    "jack = Dog()\n",
    "print(jack)"
   ]
  },
  {
   "cell_type": "markdown",
   "id": "aboriginal-yeast",
   "metadata": {},
   "source": [
    "## An object has two characteristics:\n",
    "* properties or attributes\n",
    "* behaviors or methods\n",
    "### attributes\n",
    "The attributes are data members (class variables and instance variables) and are accessed via dot notation\n",
    "#### Class and Instance variables (or attributes)\n",
    "* Class attributes refer to the attributes outside the constructor method/are variables of a class that are shared between all of its instances\n",
    "* instance attributes are owned by one specific instance of the class only, and are not shared between instances.\n",
    "### behavior\n",
    "\n",
    "#### Class and Instance methods (or behaviors)\n",
    "* Class behaviors/methods are also called dunder methods and are built-in. These methods are automatically triggered by the interpreter as a program executes.\n",
    "* Instance behavors/methods are user defined methods in a class"
   ]
  },
  {
   "cell_type": "code",
   "execution_count": 46,
   "id": "superb-transport",
   "metadata": {},
   "outputs": [],
   "source": [
    "class Dog:\n",
    "    # Class attribute\n",
    "    species = 'German Shepherd'\n",
    "    \n",
    "    def __init__(self, name, age):\n",
    "        self.name = name\n",
    "        self.age = age\n",
    "        "
   ]
  },
  {
   "cell_type": "markdown",
   "id": "stuffed-bargain",
   "metadata": {},
   "source": [
    "### Class methods\n",
    "Class methods are called *dunder* methods can be used to emulate behaviour of built-in types to user defined objects and is core Python feature that should be used as needed.\n",
    "* *dunder* methods in Python are the special methods that start and end with the double underscores. *dunder* here means “Double Under (Underscores)”. They are also called magic methods.\n",
    "* Let’s look at various “dunder” methods to have the better understanding of various features Python provides."
   ]
  },
  {
   "cell_type": "markdown",
   "id": "numerical-machinery",
   "metadata": {},
   "source": [
    "### Object Creation and Destruction \n",
    "* The __new__() is a class method that is called to create an instance. <br>\n",
    "* The __init__() method initializes the attributes of an object and is called immediately after an object has been newly created. \n",
    "* The __del__() method is invoked when an object is about to be destroyed."
   ]
  },
  {
   "cell_type": "markdown",
   "id": "cross-bottom",
   "metadata": {},
   "source": [
    "The __new__() and __init__() methods are used together to create and initialize new instances. When an object is created by calling A(args), it is translated into the following steps:\n",
    "x = A._ _new_ _(A,args)\n",
    "is isinstance(x,A): x._ _init_ _(args)"
   ]
  },
  {
   "cell_type": "markdown",
   "id": "ambient-topic",
   "metadata": {},
   "source": [
    "### Class constructor\n",
    "The job of the class constructor is to assign the values to the data members of the class when an object of the class is created.\n",
    "There can be various properties of a dog such as its name, age, color,weight etc. We’ll choose only a few of them."
   ]
  },
  {
   "cell_type": "code",
   "execution_count": 47,
   "id": "million-method",
   "metadata": {},
   "outputs": [],
   "source": [
    "class Dog:\n",
    "    \n",
    "    species = 'German Shepherd'\n",
    "    \n",
    "    def __init__(self, name, age):\n",
    "        self.name = name\n",
    "        self.age = age\n",
    "        "
   ]
  },
  {
   "cell_type": "markdown",
   "id": "seasonal-birthday",
   "metadata": {},
   "source": [
    "This __init__() method is called the constructor method and is automatically called when an object of the class is created.<br>\n",
    "&nbsp;I have one space<br>\n",
    "&ensp;I have two spaces <br>\n",
    "&emsp;I have four spaces"
   ]
  },
  {
   "cell_type": "markdown",
   "id": "surface-symphony",
   "metadata": {},
   "source": [
    "### Object Representation:\n",
    "1. The \\_\\_format\\_\\_(self, format_spec) method creates a formatted representation\n",
    "2. The \\_\\_str\\_\\_(self) method creates a string representation of an object \n",
    "3. The \\_\\_repr\\_\\_(self) method creates a simple string representation"
   ]
  },
  {
   "cell_type": "markdown",
   "id": "manufactured-telling",
   "metadata": {},
   "source": [
    ".$\\color{red}{\\text{Note:}}$ For more details on *dunder* methods [visit the article](https://www.informit.com/articles/article.aspx?p=1357182&seqNum=9)"
   ]
  },
  {
   "cell_type": "markdown",
   "id": "reported-beaver",
   "metadata": {},
   "source": [
    "### Instance methods\n",
    "So far we’ve added the properties of the Dog. Now it’s time to add some behaviors. Methods are the functions that we use to describe the behavior of the objects. They are also defined inside a class but are user defined.<br>\n",
    "Just like .\\_\\_init\\_\\_(), an instance method’s first parameter is always self."
   ]
  },
  {
   "cell_type": "code",
   "execution_count": 48,
   "id": "competitive-clearance",
   "metadata": {},
   "outputs": [],
   "source": [
    "class Dog(object):\n",
    "    \n",
    "    species = 'German Shepherd'\n",
    "    \n",
    "    def __init__(self, name, age):\n",
    "        self.name = name\n",
    "        self.age = age\n",
    "\n",
    "    # Instance method\n",
    "    def description(self):\n",
    "        return f\"{self.name} is {self.age} years old of specie {self.species}\"\n",
    "\n",
    "    # Another instance method\n",
    "    def speak(self, sound):\n",
    "        return f\"{self.name} says {sound}\""
   ]
  },
  {
   "cell_type": "markdown",
   "id": "herbal-arkansas",
   "metadata": {},
   "source": [
    "This Dog class has two instance methods:\n",
    "* description() returns a string displaying the name and age of the dog.\n",
    "* speak() has one parameter called sound and returns a string containing the dog’s name and the sound the dog makes."
   ]
  },
  {
   "cell_type": "code",
   "execution_count": 49,
   "id": "canadian-hanging",
   "metadata": {},
   "outputs": [
    {
     "data": {
      "text/plain": [
       "'Jack is 4 years old of specie German Shepherd'"
      ]
     },
     "execution_count": 49,
     "metadata": {},
     "output_type": "execute_result"
    }
   ],
   "source": [
    "Jack = Dog('Jack', 4)\n",
    "Jack.description()"
   ]
  },
  {
   "cell_type": "code",
   "execution_count": 50,
   "id": "inner-postcard",
   "metadata": {},
   "outputs": [
    {
     "data": {
      "text/plain": [
       "'Jack says woof woof'"
      ]
     },
     "execution_count": 50,
     "metadata": {},
     "output_type": "execute_result"
    }
   ],
   "source": [
    "Jack.speak('woof woof')"
   ]
  },
  {
   "cell_type": "markdown",
   "id": "interstate-laundry",
   "metadata": {},
   "source": [
    "Note: In the above Dog class, .description() returns a string containing information about the Dog instance Jack. When writing your own classes, it’s a good idea to have a method that returns a string containing useful information about an instance of the class. However, .description() isn’t the most Pythonic way of doing this."
   ]
  },
  {
   "cell_type": "markdown",
   "id": "virgin-bloom",
   "metadata": {},
   "source": [
    "Let’s see what happens when you print() the 'Jack' object:"
   ]
  },
  {
   "cell_type": "code",
   "execution_count": 51,
   "id": "solved-oxygen",
   "metadata": {},
   "outputs": [
    {
     "name": "stdout",
     "output_type": "stream",
     "text": [
      "<__main__.Dog object at 0x00000200061098E0>\n"
     ]
    }
   ],
   "source": [
    "print(Jack)"
   ]
  },
  {
   "cell_type": "markdown",
   "id": "dried-compensation",
   "metadata": {},
   "source": [
    "When you print(Jack), you get a cryptic message indicates that 'Jack' is a Dog object at the memory address 0x000001AC64C9F820. This message isn’t very helpful. You can change what gets printed by defining a special instance method called .\\_\\_str\\_\\_()."
   ]
  },
  {
   "cell_type": "code",
   "execution_count": 52,
   "id": "invalid-webcam",
   "metadata": {},
   "outputs": [],
   "source": [
    "class Dog(object):\n",
    "    \n",
    "    species = 'German Shepherd'\n",
    "    \n",
    "    def __init__(self, name, age):\n",
    "        self.name = name\n",
    "        self.age = age\n",
    "\n",
    "    # Replace .description() with __str__()\n",
    "    def __str__(self):\n",
    "        return f\"{self.name} is {self.age} years old\"\n",
    "\n",
    "    # Instance method\n",
    "    def speak(self, sound):\n",
    "        return f\"{self.name} says {sound}\""
   ]
  },
  {
   "cell_type": "code",
   "execution_count": 53,
   "id": "unavailable-essex",
   "metadata": {},
   "outputs": [],
   "source": [
    "Jack = Dog('Jack', 4)"
   ]
  },
  {
   "cell_type": "code",
   "execution_count": 54,
   "id": "amazing-journal",
   "metadata": {},
   "outputs": [
    {
     "name": "stdout",
     "output_type": "stream",
     "text": [
      "Jack is 4 years old\n"
     ]
    }
   ],
   "source": [
    "print(Jack)"
   ]
  },
  {
   "cell_type": "code",
   "execution_count": 55,
   "id": "controversial-confirmation",
   "metadata": {},
   "outputs": [
    {
     "data": {
      "text/plain": [
       "'Jack says Yep Yep'"
      ]
     },
     "execution_count": 55,
     "metadata": {},
     "output_type": "execute_result"
    }
   ],
   "source": [
    "Jack.speak('Yep Yep')"
   ]
  },
  {
   "cell_type": "markdown",
   "id": "suburban-benjamin",
   "metadata": {},
   "source": [
    "## self keyword\n",
    "The self keyword is used to represent an instance (object) of the given class. ... However, since the class is just a blueprint, self allows access to the attributes and methods of each object in python. This allows each object to have its own attributes and methods.\n",
    "\n",
    "### Explanation:\n",
    "Let's say you have a class ClassA which contains a method methodA defined as:\n",
    "\n",
    "```\n",
    "class ClassA:\n",
    "    def methodA(self, arg1, arg2):\n",
    "        pass\n",
    "```\n",
    "        \n",
    "let say ObjectA is an instance of the class.\n",
    "\n",
    "Now when ObjectA.methodA(arg1, arg2) is called, python internally converts it as:\n",
    "\n",
    "ClassA.methodA(ObjectA, arg1, arg2)\n",
    "\n",
    "The self variable refers to the object itself."
   ]
  },
  {
   "cell_type": "code",
   "execution_count": 56,
   "id": "meaningful-burton",
   "metadata": {},
   "outputs": [
    {
     "name": "stdout",
     "output_type": "stream",
     "text": [
      "Hi i am Tina\n"
     ]
    }
   ],
   "source": [
    "class Cat(object):\n",
    "    \n",
    "    def __init__(self, a):\n",
    "        self.name = a # jack.name = a\n",
    "        \n",
    "    def speak(self):\n",
    "        print(f'Hi i am {self.name}')\n",
    "    \n",
    "    \n",
    "Tina = Cat('Tina')\n",
    "Tina.speak()"
   ]
  },
  {
   "cell_type": "markdown",
   "id": "molecular-accordance",
   "metadata": {},
   "source": [
    "To determine which class a given object belongs to, you can use the built-in type():"
   ]
  },
  {
   "cell_type": "code",
   "execution_count": 57,
   "id": "stretch-agenda",
   "metadata": {},
   "outputs": [
    {
     "data": {
      "text/plain": [
       "__main__.Dog"
      ]
     },
     "execution_count": 57,
     "metadata": {},
     "output_type": "execute_result"
    }
   ],
   "source": [
    "type(Jack)"
   ]
  },
  {
   "cell_type": "code",
   "execution_count": 58,
   "id": "built-teens",
   "metadata": {},
   "outputs": [
    {
     "data": {
      "text/plain": [
       "__main__.Cat"
      ]
     },
     "execution_count": 58,
     "metadata": {},
     "output_type": "execute_result"
    }
   ],
   "source": [
    "type(Tina)"
   ]
  },
  {
   "cell_type": "markdown",
   "id": "binary-ballot",
   "metadata": {},
   "source": [
    "What if you want to determine if Jack is also an instance of the Dog class? You can do this with the built-in isinstance():"
   ]
  },
  {
   "cell_type": "code",
   "execution_count": 59,
   "id": "passing-roman",
   "metadata": {},
   "outputs": [
    {
     "data": {
      "text/plain": [
       "True"
      ]
     },
     "execution_count": 59,
     "metadata": {},
     "output_type": "execute_result"
    }
   ],
   "source": [
    "isinstance(Jack, Dog)"
   ]
  },
  {
   "cell_type": "code",
   "execution_count": 60,
   "id": "official-sudan",
   "metadata": {},
   "outputs": [
    {
     "data": {
      "text/plain": [
       "False"
      ]
     },
     "execution_count": 60,
     "metadata": {},
     "output_type": "execute_result"
    }
   ],
   "source": [
    "isinstance(Jack, Cat)"
   ]
  },
  {
   "cell_type": "code",
   "execution_count": 61,
   "id": "nearby-integral",
   "metadata": {},
   "outputs": [
    {
     "data": {
      "text/plain": [
       "True"
      ]
     },
     "execution_count": 61,
     "metadata": {},
     "output_type": "execute_result"
    }
   ],
   "source": [
    "isinstance(Tina, Cat)"
   ]
  },
  {
   "cell_type": "markdown",
   "id": "historical-sodium",
   "metadata": {},
   "source": [
    "Notice that isinstance() takes two arguments, an object and a class. In the example above, isinstance() checks if Tina is an instance of the Cat class and returns True."
   ]
  }
 ],
 "metadata": {
  "kernelspec": {
   "display_name": "Python 3",
   "language": "python",
   "name": "python3"
  },
  "language_info": {
   "codemirror_mode": {
    "name": "ipython",
    "version": 3
   },
   "file_extension": ".py",
   "mimetype": "text/x-python",
   "name": "python",
   "nbconvert_exporter": "python",
   "pygments_lexer": "ipython3",
   "version": "3.9.2"
  }
 },
 "nbformat": 4,
 "nbformat_minor": 5
}
