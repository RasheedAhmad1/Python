{
 "cells": [
  {
   "cell_type": "markdown",
   "id": "cardiac-princess",
   "metadata": {},
   "source": [
    "# object-oriented language\n",
    "A language that provides features, such as user-defined classes and inheritance, that facilitate object-oriented programming."
   ]
  },
  {
   "cell_type": "markdown",
   "id": "ambient-mineral",
   "metadata": {},
   "source": [
    "# Object-Oriented Programming\n",
    "A powerful style of programming in which data and the operations that manipulate it are organized into objects.\n",
    "Object-Oriented Programming(OOP), is all about creating *“objects”*. An object is a group of interrelated variables and functions. These variables are often referred to as *properties (attributes)* of the object and functions are referred to as the *behaviors (methods)* of the object. These objects provide a better and clear structure for the program.\n",
    "\n",
    "Example- If we consider a dog as an object then its properties would be- his name, weight, color, and breed etc. And his behaviors/functions would be walking, barking, and playing, etc."
   ]
  },
  {
   "cell_type": "markdown",
   "id": "exciting-mason",
   "metadata": {},
   "source": [
    "## class\n",
    "A user-defined compound type. A class can also be thought of as a template for the objects that are instances of it. (The iPhone is a class. By December 2010, estimates are that 50 million instances had been sold!)\n",
    "\n",
    "A class is a collection of objects. Unlike the primitive data structures, classes are data structures that the user defines. They make the code more manageable."
   ]
  },
  {
   "cell_type": "code",
   "execution_count": 1,
   "id": "exempt-anniversary",
   "metadata": {},
   "outputs": [],
   "source": [
    "# Syntax\n",
    "class Dog:\n",
    "    pass"
   ]
  },
  {
   "cell_type": "markdown",
   "id": "unnecessary-prayer",
   "metadata": {},
   "source": [
    "## object\n",
    "A compound data type that is often used to model a thing or concept in the real world. It bundles together the data and the operations that are relevant for that kind of data. Instance and object are used interchangeably."
   ]
  },
  {
   "cell_type": "markdown",
   "id": "vanilla-birth",
   "metadata": {},
   "source": [
    "## instance\n",
    "An object whose type is of some class. Instance and object are used interchangeably."
   ]
  },
  {
   "cell_type": "markdown",
   "id": "disabled-rouge",
   "metadata": {},
   "source": [
    "## instantiate\n",
    "To create an instance of a class, and to run its initializer."
   ]
  },
  {
   "cell_type": "markdown",
   "id": "white-tennis",
   "metadata": {},
   "source": [
    "## initializer method\n",
    "A special method in Python (called \\_\\_init\\_\\_) that is invoked automatically to set a newly created object’s attributes to their initial (factory-default) state."
   ]
  },
  {
   "cell_type": "markdown",
   "id": "unusual-legend",
   "metadata": {},
   "source": [
    "## constructor\n",
    "Every class has a “factory”, called by the same name as the class, for making new instances. If the class has an initializer method, this method is used to get the attributes (i.e. the state) of the new object properly set up."
   ]
  },
  {
   "cell_type": "markdown",
   "id": "eleven-festival",
   "metadata": {},
   "source": [
    "## attribute\n",
    "One of the named data items that makes up an instance."
   ]
  },
  {
   "cell_type": "markdown",
   "id": "destroyed-computer",
   "metadata": {},
   "source": [
    "## method\n",
    "A function that is defined inside a class definition and is invoked on instances of that class."
   ]
  },
  {
   "cell_type": "markdown",
   "id": "hungarian-worth",
   "metadata": {},
   "source": [
    "## Objects instantiation\n",
    "When we define a class only the description or a blueprint of the object is created. There is no memory allocation until we create its object. The objector instance contains real data or information.\n",
    "\n",
    "Instantiation is nothing but creating a new object/instance of a class. Let’s create the object of the above class we defined-"
   ]
  },
  {
   "cell_type": "markdown",
   "id": "aboriginal-yeast",
   "metadata": {},
   "source": [
    "## An object has two characteristics:\n",
    "* properties or attributes\n",
    "* behaviors or methods\n",
    "\n",
    "### attributes\n",
    "The attributes are data members (class variables and instance variables) and are accessed via dot notation\n",
    "\n",
    "#### Class attributes and Instance attributes\n",
    "* Class attributes refer to the attributes outside the constructor method/are variables of a class that are shared between all of its instances\n",
    "* instance attributes are owned by one specific instance of the class only, and are not shared between instances.\n",
    "\n",
    "#### Differences Between Class and Instance Attributes\n",
    "The difference is that class attributes is shared by all instances. When you change the value of a class attribute, it will affect all instances that share the same exact value. The attribute of an instance on the other hand is unique to that instance.\n",
    "\n",
    "### methods\n",
    "The behaviors are functions (class methods and instance methods) and are accessed via dot notation\n",
    "\n",
    "#### Class methods and Instance methods \n",
    "* Class behaviors/methods are also called dunder methods and are built-in. These methods are automatically triggered by the interpreter when the program executes.\n",
    "* Instance behavors/methods are user defined methods in a class"
   ]
  },
  {
   "cell_type": "code",
   "execution_count": 2,
   "id": "superb-transport",
   "metadata": {},
   "outputs": [
    {
     "data": {
      "text/plain": [
       "<__main__.Dog at 0x26a044f0790>"
      ]
     },
     "execution_count": 2,
     "metadata": {},
     "output_type": "execute_result"
    }
   ],
   "source": [
    "class Dog(object):\n",
    "    \n",
    "    # Class attribute\n",
    "    species = 'German Shepherd'\n",
    "    \n",
    "    # Class method\n",
    "    def __init__(self, name, age):\n",
    "        self.name = name # Instance attributes\n",
    "        self.age = age\n",
    "        \n",
    "    # Instance method\n",
    "    def description(self):\n",
    "        print(f'I am {self.name}')\n",
    "        \n",
    "# Instantiate an object and store on a variable say 'obj'\n",
    "obj = Dog('Rasheed Ahmad', 24)\n",
    "obj"
   ]
  },
  {
   "cell_type": "markdown",
   "id": "stuffed-bargain",
   "metadata": {},
   "source": [
    "### Class methods\n",
    "Class methods are called *dunder* methods can be used to emulate behaviour of built-in types to user defined objects and is core Python feature that should be used as needed.\n",
    "* *dunder* methods in Python are the special methods that start and end with the double underscores. *dunder* here means “Double Under (Underscores)”. They are also called magic methods.\n",
    "* Let’s look at various “dunder” methods to have the better understanding of various features Python provides."
   ]
  },
  {
   "cell_type": "markdown",
   "id": "numerical-machinery",
   "metadata": {},
   "source": [
    "#### Object Creation and Destruction \n",
    "Class methods for object creation and destruction\n",
    "* The \\_\\_new\\_\\_() is a class method that is called to create an instance.\n",
    "* The \\_\\_init\\_\\_() method initializes the attributes of an object and is called immediately after an object has been newly created. \n",
    "* The \\_\\_del\\_\\_() method is invoked when an object is about to be destroyed."
   ]
  },
  {
   "cell_type": "markdown",
   "id": "differential-contest",
   "metadata": {},
   "source": [
    "#### \\_\\_new\\_\\_(cls)&emsp;and&emsp;\\_\\_init\\_\\_(self)\n",
    "* \\_\\_new\\_\\_ is the first step of instance creation. It's called first, and is responsible for returning a new instance of your class.\n",
    "* In contrast, \\_\\_init\\_\\_ doesn't return anything; it's only responsible for initializing the instance after it's been created by \\_\\_new\\_\\_."
   ]
  },
  {
   "cell_type": "markdown",
   "id": "immediate-better",
   "metadata": {},
   "source": [
    "Whenever a class is instantiated \\_\\_new\\_\\_ and \\_\\_init\\_\\_ methods are called. \\_\\_new\\_\\_ method will be called when an object is created and \\_\\_init\\_\\_ method will be called to initialize the object. In the base class object, the \\_\\_new\\_\\_ method is defined as a static method which requires to pass a parameter cls. cls represents the class that is needed to be instantiated, and the compiler automatically provides this parameter at the time of instantiation."
   ]
  },
  {
   "cell_type": "code",
   "execution_count": 3,
   "id": "undefined-strategy",
   "metadata": {},
   "outputs": [],
   "source": [
    "# First step of 'object' instantiation\n",
    "class A(object):\n",
    "    def __new__(cls, *args, **kwargs):\n",
    "        return super(A, cls).__new__(cls, *args, **kwargs) # OR\n",
    "        #return object.__new__(cls, *args, **kwargs)"
   ]
  },
  {
   "cell_type": "markdown",
   "id": "streaming-magazine",
   "metadata": {},
   "source": [
    "Note: Instance can be created inside \\_\\_new\\_\\_ method either by using super function or by directly calling \\_\\_new\\_\\_ method over object, where if parent class is object. That is:<br>\n",
    "instance = super(MyClass, cls).\\_\\_new\\_\\_(cls, \\*args, \\*\\*kwargs) or<br> \n",
    "instance = object.\\_\\_new\\_\\_(cls, \\*args, \\*\\*kwargs)"
   ]
  },
  {
   "cell_type": "markdown",
   "id": "engaged-rocket",
   "metadata": {},
   "source": [
    "#### __new__() behind the scene\n",
    "When an object is created by calling A(args), it is translated into the following steps:<br>\n",
    "x = A.\\_\\_new\\_\\_(A,args)<br>\n",
    "is isinstance(x,A): x.\\_\\_init\\_\\_(args)"
   ]
  },
  {
   "cell_type": "code",
   "execution_count": 4,
   "id": "cloudy-mentor",
   "metadata": {},
   "outputs": [],
   "source": [
    "# Second step of 'object' instantiation\n",
    "class A(object):\n",
    "    \n",
    "    def __init__(self, args):\n",
    "        print(\"Init is called\")"
   ]
  },
  {
   "cell_type": "markdown",
   "id": "green-interview",
   "metadata": {},
   "source": [
    "Note: '\\_\\_init\\_\\_ is called on the returned object from '\\_\\_new\\_\\_' to initialize the object and the object is stored somewhere in the memory"
   ]
  },
  {
   "cell_type": "markdown",
   "id": "twelve-romantic",
   "metadata": {},
   "source": [
    "If both \\_\\_init\\_\\_ method and \\_\\_new\\_\\_ method exists in the class, then the \\_\\_new\\_\\_ method is executed first and decides whether to use \\_\\_init\\_\\_ method or not, because other class constructors can be called by \\_\\_new\\_\\_ method or it can simply return other objects as an instance of this class."
   ]
  },
  {
   "cell_type": "code",
   "execution_count": 5,
   "id": "urban-insertion",
   "metadata": {},
   "outputs": [
    {
     "name": "stdout",
     "output_type": "stream",
     "text": [
      "New is called and created the instance\n",
      "Init is called and initialized the instance\n"
     ]
    },
    {
     "data": {
      "text/plain": [
       "<__main__.A at 0x26a044decd0>"
      ]
     },
     "execution_count": 5,
     "metadata": {},
     "output_type": "execute_result"
    }
   ],
   "source": [
    "class A(object):\n",
    "    \n",
    "    def __new__(cls): \n",
    "        print(\"New is called and created the instance\")\n",
    "        return super(A, cls).__new__(cls)\n",
    "\n",
    "    def __init__(self):\n",
    "        print(\"Init is called and initialized the instance\")\n",
    "\n",
    "A()"
   ]
  },
  {
   "cell_type": "markdown",
   "id": "jewish-chapter",
   "metadata": {},
   "source": [
    "Now we have to store the instance by:<br>\n",
    "obj = A()"
   ]
  },
  {
   "cell_type": "markdown",
   "id": "minimal-induction",
   "metadata": {},
   "source": [
    "#### Class Constructor\n",
    "* This \\_\\_init\\_\\_() method is called the constructor method and is automatically called when an object of the class is created.\n",
    "* The job of the class constructor is to assign the values to the data members of the class when an object of the class is created."
   ]
  },
  {
   "cell_type": "markdown",
   "id": "voluntary-charge",
   "metadata": {},
   "source": [
    "#### Class Destructor:  \\_\\_del\\_\\_()\n",
    "Destructors are called when an object gets destroyed. In Python, destructors are not needed as much needed in C++ because Python has a garbage collector that handles memory management automatically.\n",
    "The \\_\\_del\\_\\_() method is a known as a destructor method in Python. It is called when all references to the object have been deleted i.e when an object is garbage collected."
   ]
  },
  {
   "cell_type": "code",
   "execution_count": 6,
   "id": "worldwide-rubber",
   "metadata": {},
   "outputs": [
    {
     "name": "stdout",
     "output_type": "stream",
     "text": [
      "Employee created.\n",
      "Destructor called, Employee deleted.\n"
     ]
    }
   ],
   "source": [
    "# Program to illustrate destructor\n",
    "class Employee:\n",
    "  \n",
    "    # Initializing\n",
    "    def __init__(self):\n",
    "        print('Employee created.')\n",
    "  \n",
    "    # Deleting (Calling destructor)\n",
    "    def __del__(self):\n",
    "        print('Destructor called, Employee deleted.')\n",
    "\n",
    "obj = Employee()\n",
    "del obj"
   ]
  },
  {
   "cell_type": "markdown",
   "id": "worst-october",
   "metadata": {},
   "source": [
    "Note : A reference to objects is also deleted when the object goes out of reference or when the program ends."
   ]
  },
  {
   "cell_type": "markdown",
   "id": "canadian-failure",
   "metadata": {},
   "source": [
    "Note : The destructor was called after the program ended or when all the references to object are deleted i.e when the reference count becomes zero, not when object went out of scope."
   ]
  },
  {
   "cell_type": "markdown",
   "id": "innocent-craft",
   "metadata": {},
   "source": [
    "Example 2 :This example gives the explanation of above mentioned note. Here, notice that the destructor is called after the ‘Program End…’ printed."
   ]
  },
  {
   "cell_type": "code",
   "execution_count": 7,
   "id": "worthy-clerk",
   "metadata": {},
   "outputs": [
    {
     "name": "stdout",
     "output_type": "stream",
     "text": [
      "Calling Create_obj() function...\n",
      "Making Object...\n",
      "Employee created\n",
      "function end...\n",
      "Program End...\n"
     ]
    }
   ],
   "source": [
    "# Program to illustrate destructor\n",
    "  \n",
    "class Employee:\n",
    "  \n",
    "    # Initializing \n",
    "    def __init__(self):\n",
    "        print('Employee created')\n",
    "  \n",
    "    # Calling destructor\n",
    "    def __del__(self):\n",
    "        print(\"Destructor called\")\n",
    "\n",
    "def Create_obj():\n",
    "    print('Making Object...')\n",
    "    obj = Employee()\n",
    "    print('function end...')\n",
    "    return obj\n",
    "  \n",
    "print('Calling Create_obj() function...')\n",
    "obj = Create_obj()\n",
    "print('Program End...')"
   ]
  },
  {
   "cell_type": "code",
   "execution_count": 24,
   "id": "floating-stone",
   "metadata": {},
   "outputs": [],
   "source": [
    "class A:\n",
    "    \n",
    "    def __init__(self, bb):\n",
    "        self.b = bb\n",
    "        \n",
    "        \n",
    "class B:\n",
    "    \n",
    "    def __init__(self):\n",
    "        self.a = A(self)\n",
    "    def __del__(self):\n",
    "        print(\"die\")\n",
    "\n",
    "        \n",
    "def fun():\n",
    "    b = B()\n",
    "\n",
    "fun()"
   ]
  },
  {
   "cell_type": "markdown",
   "id": "diagnostic-hospital",
   "metadata": {},
   "source": [
    "In this example when the function fun() is called, it creates an instance of class B which passes itself to class A, which then sets a reference to class B and resulting in a circular reference.\n",
    "\n",
    "Generally, Python’s garbage collector which is used to detect these types of cyclic references would remove it but in this example the use of custom destructor marks this item as “uncollectable”.\n",
    "Simply, it doesn’t know the order in which to destroy the objects, so it leaves them. Therefore, if your instances are involved in circular references they will live in memory for as long as the application run."
   ]
  },
  {
   "cell_type": "markdown",
   "id": "surface-symphony",
   "metadata": {},
   "source": [
    "### Object Representation:\n",
    "1. The \\_\\_format\\_\\_(self, format_spec) method creates a formatted representation\n",
    "2. The \\_\\_str\\_\\_(self) method creates a string representation of an object \n",
    "3. The \\_\\_repr\\_\\_(self) method creates a simple string representation"
   ]
  },
  {
   "cell_type": "markdown",
   "id": "manufactured-telling",
   "metadata": {},
   "source": [
    ".$\\color{red}{\\text{Note:}}$ For more details on *dunder* methods [visit the article](https://www.informit.com/articles/article.aspx?p=1357182&seqNum=9)"
   ]
  },
  {
   "cell_type": "markdown",
   "id": "reported-beaver",
   "metadata": {},
   "source": [
    "### Instance methods\n",
    "Now it’s time to add some instance methods or user defined methods to the class. Methods are the functions that we use to describe the behavior of the objects. They are also defined inside a class but are user defined.<br>\n",
    "Just like .\\_\\_init\\_\\_(), an instance method’s first parameter is always self."
   ]
  },
  {
   "cell_type": "code",
   "execution_count": 9,
   "id": "competitive-clearance",
   "metadata": {},
   "outputs": [],
   "source": [
    "class Dog(object):\n",
    "    \n",
    "    species = 'German Shepherd'\n",
    "    \n",
    "    def __init__(self, name, age):\n",
    "        self.name = name\n",
    "        self.age = age\n",
    "\n",
    "    # Instance method\n",
    "    def description(self):\n",
    "        return f\"{self.name} is {self.age} years old of specie {self.species}\"\n",
    "\n",
    "    # Another instance method\n",
    "    def speak(self, sound): # if you set self.sound = sound then use self.sound to print it otherwise use sound to print it\n",
    "        return f\"{self.name} says {sound}\""
   ]
  },
  {
   "cell_type": "markdown",
   "id": "herbal-arkansas",
   "metadata": {},
   "source": [
    "This Dog class has two instance methods:\n",
    "* description() returns a string displaying the name and age of the dog.\n",
    "* speak() has one parameter called sound and returns a string containing the dog’s name and the sound the dog makes."
   ]
  },
  {
   "cell_type": "code",
   "execution_count": 10,
   "id": "canadian-hanging",
   "metadata": {},
   "outputs": [
    {
     "data": {
      "text/plain": [
       "'Jack is 4 years old of specie German Shepherd'"
      ]
     },
     "execution_count": 10,
     "metadata": {},
     "output_type": "execute_result"
    }
   ],
   "source": [
    "Jack = Dog('Jack', 4)\n",
    "Jack.description()"
   ]
  },
  {
   "cell_type": "code",
   "execution_count": 11,
   "id": "inner-postcard",
   "metadata": {},
   "outputs": [
    {
     "data": {
      "text/plain": [
       "'Jack says woof woof'"
      ]
     },
     "execution_count": 11,
     "metadata": {},
     "output_type": "execute_result"
    }
   ],
   "source": [
    "Jack.speak('woof woof')"
   ]
  },
  {
   "cell_type": "markdown",
   "id": "interstate-laundry",
   "metadata": {},
   "source": [
    "Note: In the above Dog class, .description() returns a string containing information about the Dog instance Jack. When writing your own classes, it’s a good idea to have a method that returns a string containing useful information about an instance of the class. However, .description() isn’t the most Pythonic way of doing this."
   ]
  },
  {
   "cell_type": "markdown",
   "id": "virgin-bloom",
   "metadata": {},
   "source": [
    "Let’s see what happens when you print() the 'Jack' object:"
   ]
  },
  {
   "cell_type": "code",
   "execution_count": 12,
   "id": "solved-oxygen",
   "metadata": {},
   "outputs": [
    {
     "name": "stdout",
     "output_type": "stream",
     "text": [
      "<__main__.Dog object at 0x0000026A043DFA30>\n"
     ]
    }
   ],
   "source": [
    "print(Jack)"
   ]
  },
  {
   "cell_type": "markdown",
   "id": "dried-compensation",
   "metadata": {},
   "source": [
    "When you print(Jack), you get a cryptic message indicates that 'Jack' is a Dog object at the memory address 0x000001AC64C9F820. This message isn’t very helpful. You can change what gets printed by defining a special instance method called .\\_\\_str\\_\\_()."
   ]
  },
  {
   "cell_type": "code",
   "execution_count": 13,
   "id": "invalid-webcam",
   "metadata": {},
   "outputs": [],
   "source": [
    "class Dog(object):\n",
    "    \n",
    "    species = 'German Shepherd'\n",
    "    \n",
    "    def __init__(self, name, age):\n",
    "        self.name = name\n",
    "        self.age = age\n",
    "\n",
    "    # Replace .description() with __str__()\n",
    "    def __str__(self):\n",
    "        return f\"{self.name} is {self.age} years old\"\n",
    "\n",
    "    # Instance method\n",
    "    def speak(self, sound):\n",
    "        return f\"{self.name} says {sound}\""
   ]
  },
  {
   "cell_type": "code",
   "execution_count": 14,
   "id": "unavailable-essex",
   "metadata": {},
   "outputs": [],
   "source": [
    "Jack = Dog('Jack', 4)"
   ]
  },
  {
   "cell_type": "code",
   "execution_count": 15,
   "id": "amazing-journal",
   "metadata": {},
   "outputs": [
    {
     "name": "stdout",
     "output_type": "stream",
     "text": [
      "Jack is 4 years old\n"
     ]
    }
   ],
   "source": [
    "print(Jack)"
   ]
  },
  {
   "cell_type": "code",
   "execution_count": 16,
   "id": "controversial-confirmation",
   "metadata": {},
   "outputs": [
    {
     "data": {
      "text/plain": [
       "'Jack says Yep Yep'"
      ]
     },
     "execution_count": 16,
     "metadata": {},
     "output_type": "execute_result"
    }
   ],
   "source": [
    "Jack.speak('Yep Yep')"
   ]
  },
  {
   "cell_type": "markdown",
   "id": "suburban-benjamin",
   "metadata": {},
   "source": [
    "## self keyword\n",
    "The self keyword is used to represent an instance (object) of the given class. ... However, since the class is just a blueprint, self allows access to the attributes and methods of each object in python. This allows each object to have its own attributes and methods.\n",
    "\n",
    "### Explanation:\n",
    "Let's say you have a class ClassA which contains a method methodA defined as:\n",
    "\n",
    "```\n",
    "class ClassA:\n",
    "    def methodA(self, arg1, arg2):\n",
    "        pass\n",
    "```\n",
    "        \n",
    "let say ObjectA is an instance of the class.\n",
    "\n",
    "Now when ObjectA.methodA(arg1, arg2) is called, python internally converts it as:\n",
    "\n",
    "ClassA.methodA(ObjectA, arg1, arg2)\n",
    "\n",
    "The self variable refers to the object itself."
   ]
  },
  {
   "cell_type": "code",
   "execution_count": 17,
   "id": "meaningful-burton",
   "metadata": {},
   "outputs": [
    {
     "name": "stdout",
     "output_type": "stream",
     "text": [
      "Hi i am Tina\n"
     ]
    }
   ],
   "source": [
    "class Cat(object):\n",
    "    \n",
    "    def __init__(self, a):\n",
    "        self.name = a # jack.name = a\n",
    "        \n",
    "    def speak(self):\n",
    "        print(f'Hi i am {self.name}')\n",
    "    \n",
    "    \n",
    "Tina = Cat('Tina')\n",
    "Tina.speak()"
   ]
  },
  {
   "cell_type": "markdown",
   "id": "molecular-accordance",
   "metadata": {},
   "source": [
    "To determine which class a given object belongs to, you can use the built-in type():"
   ]
  },
  {
   "cell_type": "code",
   "execution_count": 18,
   "id": "stretch-agenda",
   "metadata": {},
   "outputs": [
    {
     "data": {
      "text/plain": [
       "__main__.Dog"
      ]
     },
     "execution_count": 18,
     "metadata": {},
     "output_type": "execute_result"
    }
   ],
   "source": [
    "type(Jack)"
   ]
  },
  {
   "cell_type": "code",
   "execution_count": 19,
   "id": "built-teens",
   "metadata": {},
   "outputs": [
    {
     "data": {
      "text/plain": [
       "__main__.Cat"
      ]
     },
     "execution_count": 19,
     "metadata": {},
     "output_type": "execute_result"
    }
   ],
   "source": [
    "type(Tina)"
   ]
  },
  {
   "cell_type": "markdown",
   "id": "binary-ballot",
   "metadata": {},
   "source": [
    "What if you want to determine if Jack is also an instance of the Dog class? You can do this with the built-in isinstance():"
   ]
  },
  {
   "cell_type": "code",
   "execution_count": 20,
   "id": "passing-roman",
   "metadata": {},
   "outputs": [
    {
     "data": {
      "text/plain": [
       "True"
      ]
     },
     "execution_count": 20,
     "metadata": {},
     "output_type": "execute_result"
    }
   ],
   "source": [
    "isinstance(Jack, Dog)"
   ]
  },
  {
   "cell_type": "code",
   "execution_count": 21,
   "id": "official-sudan",
   "metadata": {},
   "outputs": [
    {
     "name": "stdout",
     "output_type": "stream",
     "text": [
      "die\n"
     ]
    },
    {
     "data": {
      "text/plain": [
       "False"
      ]
     },
     "execution_count": 21,
     "metadata": {},
     "output_type": "execute_result"
    }
   ],
   "source": [
    "isinstance(Jack, Cat)"
   ]
  },
  {
   "cell_type": "code",
   "execution_count": 22,
   "id": "nearby-integral",
   "metadata": {},
   "outputs": [
    {
     "data": {
      "text/plain": [
       "True"
      ]
     },
     "execution_count": 22,
     "metadata": {},
     "output_type": "execute_result"
    }
   ],
   "source": [
    "isinstance(Tina, Cat)"
   ]
  },
  {
   "cell_type": "markdown",
   "id": "historical-sodium",
   "metadata": {},
   "source": [
    "Notice that isinstance() takes two arguments, an object and a class. In the example above, isinstance() checks if Tina is an instance of the Cat class and returns True."
   ]
  }
 ],
 "metadata": {
  "kernelspec": {
   "display_name": "Python 3",
   "language": "python",
   "name": "python3"
  },
  "language_info": {
   "codemirror_mode": {
    "name": "ipython",
    "version": 3
   },
   "file_extension": ".py",
   "mimetype": "text/x-python",
   "name": "python",
   "nbconvert_exporter": "python",
   "pygments_lexer": "ipython3",
   "version": "3.9.2"
  }
 },
 "nbformat": 4,
 "nbformat_minor": 5
}
