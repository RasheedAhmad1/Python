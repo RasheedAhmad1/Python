{
 "cells": [
  {
   "cell_type": "markdown",
   "id": "theoretical-executive",
   "metadata": {},
   "source": [
    "# Abstraction\n",
    "We use Abstraction for hiding the internal details or implementations of a function and showing its functionalities only. This is similar to the way you know how to drive a car without knowing the background mechanism. Or you know how to turn on or off a light using a switch but you don’t know what is happening behind the socket.\n",
    "\n",
    "Any class with at least one abstract function is an abstract class. In order to create an abstraction class first, you need to import ABC class from [abc](https://www.google.com/url?sa=t&rct=j&q=&esrc=s&source=web&cd=&cad=rja&uact=8&ved=2ahUKEwjrtMSbwsXrAhVIzzgGHVMwDlkQFjAAegQIAxAB&url=https%3A%2F%2Fdocs.python.org%2F3%2Flibrary%2Fabc.html&usg=AOvVaw0Tb8GVbHgscdgGVAJbUvLR) module. This lets you create abstract methods inside it. ABC stands for Abstract Base Class."
   ]
  },
  {
   "cell_type": "markdown",
   "id": "coordinate-folder",
   "metadata": {},
   "source": [
    "Important thing is– you cannot create an object for the abstract class with the abstract method. For example-"
   ]
  },
  {
   "cell_type": "code",
   "execution_count": 6,
   "id": "resistant-trial",
   "metadata": {},
   "outputs": [],
   "source": [
    "from abc import ABC, abstractmethod\n",
    "\n",
    "class Car(ABC):\n",
    "    def __init__(self,name):\n",
    "        self.name = name \n",
    "\n",
    "    @abstractmethod \n",
    "    def price(self,x):\n",
    "        pass"
   ]
  },
  {
   "cell_type": "code",
   "execution_count": 7,
   "id": "distant-intention",
   "metadata": {},
   "outputs": [
    {
     "ename": "TypeError",
     "evalue": "Can't instantiate abstract class Car with abstract method price",
     "output_type": "error",
     "traceback": [
      "\u001b[1;31m---------------------------------------------------------------------------\u001b[0m",
      "\u001b[1;31mTypeError\u001b[0m                                 Traceback (most recent call last)",
      "\u001b[1;32m<ipython-input-7-6ae09b643ded>\u001b[0m in \u001b[0;36m<module>\u001b[1;34m\u001b[0m\n\u001b[1;32m----> 1\u001b[1;33m \u001b[0mobj\u001b[0m \u001b[1;33m=\u001b[0m \u001b[0mCar\u001b[0m\u001b[1;33m(\u001b[0m\u001b[1;34m\"Honda City\"\u001b[0m\u001b[1;33m)\u001b[0m\u001b[1;33m\u001b[0m\u001b[1;33m\u001b[0m\u001b[0m\n\u001b[0m",
      "\u001b[1;31mTypeError\u001b[0m: Can't instantiate abstract class Car with abstract method price"
     ]
    }
   ],
   "source": [
    "obj = Car(\"Honda City\")"
   ]
  },
  {
   "cell_type": "markdown",
   "id": "middle-silly",
   "metadata": {},
   "source": [
    "Now the question is how do we use this abstraction exactly. The answer is by using inheritance."
   ]
  },
  {
   "cell_type": "code",
   "execution_count": 8,
   "id": "dependent-humanitarian",
   "metadata": {},
   "outputs": [],
   "source": [
    "class Car(ABC):\n",
    "    def __init__(self,name):\n",
    "        self.name = name\n",
    "\n",
    "    def description(self):\n",
    "        print(\"This the description function of class car.\")\n",
    "\n",
    "    @abstractmethod\n",
    "    def price(self,x):\n",
    "        pass\n",
    "class new(Car):\n",
    "    def price(self,x):\n",
    "        print(f\"The {self.name}'s price is {x} lakhs.\")"
   ]
  },
  {
   "cell_type": "code",
   "execution_count": 9,
   "id": "cosmetic-worst",
   "metadata": {},
   "outputs": [
    {
     "name": "stdout",
     "output_type": "stream",
     "text": [
      "This the description function of class car.\n",
      "The Honda City's price is 25 lakhs.\n"
     ]
    }
   ],
   "source": [
    "obj = new(\"Honda City\")\n",
    "\n",
    "obj.description()\n",
    "obj.price(25)"
   ]
  },
  {
   "cell_type": "markdown",
   "id": "handled-zoning",
   "metadata": {},
   "source": [
    "Car is the abstract class that inherits from the ABC class from the abc module. Notice how I have an abstract method (price()) and a concrete method (description()) in the abstract class. This is because the abstract class can include both of these kinds of functions but a normal class cannot. The other class inheriting from this abstract class is new(). This method is giving definition to the abstract method (price()) which is how we use abstract functions.\n",
    "\n",
    "After the user creates objects from new() class and invokes the price() method, the definitions for the price method inside the new() class comes into play. These definitions are hidden from the user. The Abstract method is just providing a declaration. The child classes need to provide the definition.\n",
    "\n",
    "But when the description() method is called for the object of new() class i.e obj, the Car’s description() method is invoked since it is not an abstract method."
   ]
  },
  {
   "cell_type": "code",
   "execution_count": null,
   "id": "heated-cable",
   "metadata": {},
   "outputs": [],
   "source": []
  }
 ],
 "metadata": {
  "kernelspec": {
   "display_name": "Python 3",
   "language": "python",
   "name": "python3"
  },
  "language_info": {
   "codemirror_mode": {
    "name": "ipython",
    "version": 3
   },
   "file_extension": ".py",
   "mimetype": "text/x-python",
   "name": "python",
   "nbconvert_exporter": "python",
   "pygments_lexer": "ipython3",
   "version": "3.9.2"
  }
 },
 "nbformat": 4,
 "nbformat_minor": 5
}
